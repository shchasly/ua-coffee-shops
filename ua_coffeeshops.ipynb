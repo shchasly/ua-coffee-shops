{
  "cells": [
    {
      "cell_type": "markdown",
      "source": [
        "The dataset contains information about 200 coffee shops located in 10 cities in Ukraine.\n",
        "\n",
        "The goal of this project is to perform clustering, using K-Means and Hierarchical Clustering algorithms."
      ],
      "metadata": {
        "id": "TRDaxfc5hCv8"
      },
      "id": "TRDaxfc5hCv8"
    },
    {
      "cell_type": "markdown",
      "source": [
        "##Data Preprocessing"
      ],
      "metadata": {
        "id": "-CIKbQXhgJO1"
      },
      "id": "-CIKbQXhgJO1"
    },
    {
      "cell_type": "markdown",
      "source": [
        "Importing libraries."
      ],
      "metadata": {
        "id": "RT-7qT7pgTMV"
      },
      "id": "RT-7qT7pgTMV"
    },
    {
      "cell_type": "code",
      "execution_count": 1,
      "id": "8c7a7dfc",
      "metadata": {
        "id": "8c7a7dfc",
        "colab": {
          "base_uri": "https://localhost:8080/"
        },
        "outputId": "fcd895cd-9a83-41cf-9a64-deb46e56d156"
      },
      "outputs": [
        {
          "output_type": "stream",
          "name": "stdout",
          "text": [
            "Looking in indexes: https://pypi.org/simple, https://us-python.pkg.dev/colab-wheels/public/simple/\n",
            "Requirement already satisfied: category_encoders in /usr/local/lib/python3.8/dist-packages (2.6.0)\n",
            "Requirement already satisfied: scipy>=1.0.0 in /usr/local/lib/python3.8/dist-packages (from category_encoders) (1.7.3)\n",
            "Requirement already satisfied: scikit-learn>=0.20.0 in /usr/local/lib/python3.8/dist-packages (from category_encoders) (1.0.2)\n",
            "Requirement already satisfied: statsmodels>=0.9.0 in /usr/local/lib/python3.8/dist-packages (from category_encoders) (0.12.2)\n",
            "Requirement already satisfied: numpy>=1.14.0 in /usr/local/lib/python3.8/dist-packages (from category_encoders) (1.21.6)\n",
            "Requirement already satisfied: patsy>=0.5.1 in /usr/local/lib/python3.8/dist-packages (from category_encoders) (0.5.3)\n",
            "Requirement already satisfied: pandas>=1.0.5 in /usr/local/lib/python3.8/dist-packages (from category_encoders) (1.3.5)\n",
            "Requirement already satisfied: pytz>=2017.3 in /usr/local/lib/python3.8/dist-packages (from pandas>=1.0.5->category_encoders) (2022.7)\n",
            "Requirement already satisfied: python-dateutil>=2.7.3 in /usr/local/lib/python3.8/dist-packages (from pandas>=1.0.5->category_encoders) (2.8.2)\n",
            "Requirement already satisfied: six in /usr/local/lib/python3.8/dist-packages (from patsy>=0.5.1->category_encoders) (1.15.0)\n",
            "Requirement already satisfied: joblib>=0.11 in /usr/local/lib/python3.8/dist-packages (from scikit-learn>=0.20.0->category_encoders) (1.2.0)\n",
            "Requirement already satisfied: threadpoolctl>=2.0.0 in /usr/local/lib/python3.8/dist-packages (from scikit-learn>=0.20.0->category_encoders) (3.1.0)\n"
          ]
        }
      ],
      "source": [
        "import numpy as np\n",
        "import pandas as pd\n",
        "import seaborn as sns\n",
        "import matplotlib.pyplot as plt\n",
        "\n",
        "!pip install category_encoders\n",
        "import category_encoders as ce\n",
        "\n",
        "from sklearn.preprocessing import StandardScaler\n",
        "from sklearn.decomposition import PCA\n",
        "from sklearn.cluster import KMeans, AgglomerativeClustering\n",
        "import scipy.cluster.hierarchy as sch\n",
        "from sklearn.metrics import confusion_matrix, accuracy_score"
      ]
    },
    {
      "cell_type": "markdown",
      "source": [
        "Reading dataset, checking info about attributes."
      ],
      "metadata": {
        "id": "LgqslpbkggNI"
      },
      "id": "LgqslpbkggNI"
    },
    {
      "cell_type": "code",
      "execution_count": 2,
      "id": "cbcb43e1",
      "metadata": {
        "id": "cbcb43e1"
      },
      "outputs": [],
      "source": [
        "coffee_shops = pd.read_csv('Ukraine Cities Coffee Shops Analysis - Main.csv')"
      ]
    },
    {
      "cell_type": "code",
      "execution_count": 3,
      "id": "a6127c4d",
      "metadata": {
        "colab": {
          "base_uri": "https://localhost:8080/"
        },
        "id": "a6127c4d",
        "outputId": "e0ca8f69-8bf7-44d2-9a88-58d0f17c699b"
      },
      "outputs": [
        {
          "output_type": "stream",
          "name": "stdout",
          "text": [
            "<class 'pandas.core.frame.DataFrame'>\n",
            "RangeIndex: 200 entries, 0 to 199\n",
            "Data columns (total 9 columns):\n",
            " #   Column           Non-Null Count  Dtype  \n",
            "---  ------           --------------  -----  \n",
            " 0   Region           200 non-null    object \n",
            " 1   Place name       200 non-null    object \n",
            " 2   Place type       200 non-null    object \n",
            " 3   Rating           198 non-null    float64\n",
            " 4   Reviews          198 non-null    float64\n",
            " 5   Price            122 non-null    object \n",
            " 6   Delivery option  129 non-null    object \n",
            " 7   Dine in option   140 non-null    object \n",
            " 8   Takeout option   144 non-null    object \n",
            "dtypes: float64(2), object(7)\n",
            "memory usage: 14.2+ KB\n"
          ]
        }
      ],
      "source": [
        "coffee_shops.info()"
      ]
    },
    {
      "cell_type": "markdown",
      "source": [
        "Dropping the attribute \"Place name\" which seems to be insignificant. Checking data formats of the rest."
      ],
      "metadata": {
        "id": "EaZZaWzUgrA9"
      },
      "id": "EaZZaWzUgrA9"
    },
    {
      "cell_type": "code",
      "execution_count": 4,
      "id": "14ce59ad",
      "metadata": {
        "colab": {
          "base_uri": "https://localhost:8080/",
          "height": 206
        },
        "id": "14ce59ad",
        "outputId": "b2c1bea5-28e1-46b7-aeb3-d4df3914e1aa"
      },
      "outputs": [
        {
          "output_type": "execute_result",
          "data": {
            "text/plain": [
              "     Region    Place type  Rating  Reviews Price Delivery option  \\\n",
              "0  Mariupol  Coffee store     4.6    206.0   NaN             NaN   \n",
              "1  Mariupol          Cafe     5.0     24.0    $$           False   \n",
              "2  Mariupol   Coffee shop     5.0     11.0   NaN             NaN   \n",
              "3  Mariupol   Coffee shop     4.4    331.0    $$           False   \n",
              "4  Mariupol   Coffee shop     5.0     12.0   NaN             NaN   \n",
              "\n",
              "  Dine in option Takeout option  \n",
              "0            NaN            NaN  \n",
              "1            NaN           True  \n",
              "2            NaN           True  \n",
              "3           True           True  \n",
              "4           True           True  "
            ],
            "text/html": [
              "\n",
              "  <div id=\"df-9271a64d-3285-403a-8b07-277871276ab9\">\n",
              "    <div class=\"colab-df-container\">\n",
              "      <div>\n",
              "<style scoped>\n",
              "    .dataframe tbody tr th:only-of-type {\n",
              "        vertical-align: middle;\n",
              "    }\n",
              "\n",
              "    .dataframe tbody tr th {\n",
              "        vertical-align: top;\n",
              "    }\n",
              "\n",
              "    .dataframe thead th {\n",
              "        text-align: right;\n",
              "    }\n",
              "</style>\n",
              "<table border=\"1\" class=\"dataframe\">\n",
              "  <thead>\n",
              "    <tr style=\"text-align: right;\">\n",
              "      <th></th>\n",
              "      <th>Region</th>\n",
              "      <th>Place type</th>\n",
              "      <th>Rating</th>\n",
              "      <th>Reviews</th>\n",
              "      <th>Price</th>\n",
              "      <th>Delivery option</th>\n",
              "      <th>Dine in option</th>\n",
              "      <th>Takeout option</th>\n",
              "    </tr>\n",
              "  </thead>\n",
              "  <tbody>\n",
              "    <tr>\n",
              "      <th>0</th>\n",
              "      <td>Mariupol</td>\n",
              "      <td>Coffee store</td>\n",
              "      <td>4.6</td>\n",
              "      <td>206.0</td>\n",
              "      <td>NaN</td>\n",
              "      <td>NaN</td>\n",
              "      <td>NaN</td>\n",
              "      <td>NaN</td>\n",
              "    </tr>\n",
              "    <tr>\n",
              "      <th>1</th>\n",
              "      <td>Mariupol</td>\n",
              "      <td>Cafe</td>\n",
              "      <td>5.0</td>\n",
              "      <td>24.0</td>\n",
              "      <td>$$</td>\n",
              "      <td>False</td>\n",
              "      <td>NaN</td>\n",
              "      <td>True</td>\n",
              "    </tr>\n",
              "    <tr>\n",
              "      <th>2</th>\n",
              "      <td>Mariupol</td>\n",
              "      <td>Coffee shop</td>\n",
              "      <td>5.0</td>\n",
              "      <td>11.0</td>\n",
              "      <td>NaN</td>\n",
              "      <td>NaN</td>\n",
              "      <td>NaN</td>\n",
              "      <td>True</td>\n",
              "    </tr>\n",
              "    <tr>\n",
              "      <th>3</th>\n",
              "      <td>Mariupol</td>\n",
              "      <td>Coffee shop</td>\n",
              "      <td>4.4</td>\n",
              "      <td>331.0</td>\n",
              "      <td>$$</td>\n",
              "      <td>False</td>\n",
              "      <td>True</td>\n",
              "      <td>True</td>\n",
              "    </tr>\n",
              "    <tr>\n",
              "      <th>4</th>\n",
              "      <td>Mariupol</td>\n",
              "      <td>Coffee shop</td>\n",
              "      <td>5.0</td>\n",
              "      <td>12.0</td>\n",
              "      <td>NaN</td>\n",
              "      <td>NaN</td>\n",
              "      <td>True</td>\n",
              "      <td>True</td>\n",
              "    </tr>\n",
              "  </tbody>\n",
              "</table>\n",
              "</div>\n",
              "      <button class=\"colab-df-convert\" onclick=\"convertToInteractive('df-9271a64d-3285-403a-8b07-277871276ab9')\"\n",
              "              title=\"Convert this dataframe to an interactive table.\"\n",
              "              style=\"display:none;\">\n",
              "        \n",
              "  <svg xmlns=\"http://www.w3.org/2000/svg\" height=\"24px\"viewBox=\"0 0 24 24\"\n",
              "       width=\"24px\">\n",
              "    <path d=\"M0 0h24v24H0V0z\" fill=\"none\"/>\n",
              "    <path d=\"M18.56 5.44l.94 2.06.94-2.06 2.06-.94-2.06-.94-.94-2.06-.94 2.06-2.06.94zm-11 1L8.5 8.5l.94-2.06 2.06-.94-2.06-.94L8.5 2.5l-.94 2.06-2.06.94zm10 10l.94 2.06.94-2.06 2.06-.94-2.06-.94-.94-2.06-.94 2.06-2.06.94z\"/><path d=\"M17.41 7.96l-1.37-1.37c-.4-.4-.92-.59-1.43-.59-.52 0-1.04.2-1.43.59L10.3 9.45l-7.72 7.72c-.78.78-.78 2.05 0 2.83L4 21.41c.39.39.9.59 1.41.59.51 0 1.02-.2 1.41-.59l7.78-7.78 2.81-2.81c.8-.78.8-2.07 0-2.86zM5.41 20L4 18.59l7.72-7.72 1.47 1.35L5.41 20z\"/>\n",
              "  </svg>\n",
              "      </button>\n",
              "      \n",
              "  <style>\n",
              "    .colab-df-container {\n",
              "      display:flex;\n",
              "      flex-wrap:wrap;\n",
              "      gap: 12px;\n",
              "    }\n",
              "\n",
              "    .colab-df-convert {\n",
              "      background-color: #E8F0FE;\n",
              "      border: none;\n",
              "      border-radius: 50%;\n",
              "      cursor: pointer;\n",
              "      display: none;\n",
              "      fill: #1967D2;\n",
              "      height: 32px;\n",
              "      padding: 0 0 0 0;\n",
              "      width: 32px;\n",
              "    }\n",
              "\n",
              "    .colab-df-convert:hover {\n",
              "      background-color: #E2EBFA;\n",
              "      box-shadow: 0px 1px 2px rgba(60, 64, 67, 0.3), 0px 1px 3px 1px rgba(60, 64, 67, 0.15);\n",
              "      fill: #174EA6;\n",
              "    }\n",
              "\n",
              "    [theme=dark] .colab-df-convert {\n",
              "      background-color: #3B4455;\n",
              "      fill: #D2E3FC;\n",
              "    }\n",
              "\n",
              "    [theme=dark] .colab-df-convert:hover {\n",
              "      background-color: #434B5C;\n",
              "      box-shadow: 0px 1px 3px 1px rgba(0, 0, 0, 0.15);\n",
              "      filter: drop-shadow(0px 1px 2px rgba(0, 0, 0, 0.3));\n",
              "      fill: #FFFFFF;\n",
              "    }\n",
              "  </style>\n",
              "\n",
              "      <script>\n",
              "        const buttonEl =\n",
              "          document.querySelector('#df-9271a64d-3285-403a-8b07-277871276ab9 button.colab-df-convert');\n",
              "        buttonEl.style.display =\n",
              "          google.colab.kernel.accessAllowed ? 'block' : 'none';\n",
              "\n",
              "        async function convertToInteractive(key) {\n",
              "          const element = document.querySelector('#df-9271a64d-3285-403a-8b07-277871276ab9');\n",
              "          const dataTable =\n",
              "            await google.colab.kernel.invokeFunction('convertToInteractive',\n",
              "                                                     [key], {});\n",
              "          if (!dataTable) return;\n",
              "\n",
              "          const docLinkHtml = 'Like what you see? Visit the ' +\n",
              "            '<a target=\"_blank\" href=https://colab.research.google.com/notebooks/data_table.ipynb>data table notebook</a>'\n",
              "            + ' to learn more about interactive tables.';\n",
              "          element.innerHTML = '';\n",
              "          dataTable['output_type'] = 'display_data';\n",
              "          await google.colab.output.renderOutput(dataTable, element);\n",
              "          const docLink = document.createElement('div');\n",
              "          docLink.innerHTML = docLinkHtml;\n",
              "          element.appendChild(docLink);\n",
              "        }\n",
              "      </script>\n",
              "    </div>\n",
              "  </div>\n",
              "  "
            ]
          },
          "metadata": {},
          "execution_count": 4
        }
      ],
      "source": [
        "coffee_shops = coffee_shops.drop(columns = [\"Place name\"])\n",
        "coffee_shops.head()"
      ]
    },
    {
      "cell_type": "markdown",
      "source": [
        "Counting amounts of missing values and filling in with mean value for ordinal and numerical attributes, false value for binary ones. Converting ordinal and binary attributes to the numerical form."
      ],
      "metadata": {
        "id": "oRYvJ4Ilhbpm"
      },
      "id": "oRYvJ4Ilhbpm"
    },
    {
      "cell_type": "code",
      "execution_count": 5,
      "id": "7592e52e",
      "metadata": {
        "colab": {
          "base_uri": "https://localhost:8080/"
        },
        "id": "7592e52e",
        "outputId": "6bfb568f-248f-4fc4-f6ec-7a36a6e9e93e"
      },
      "outputs": [
        {
          "output_type": "execute_result",
          "data": {
            "text/plain": [
              "Region              0\n",
              "Place type          0\n",
              "Rating              2\n",
              "Reviews             2\n",
              "Price              78\n",
              "Delivery option    71\n",
              "Dine in option     60\n",
              "Takeout option     56\n",
              "dtype: int64"
            ]
          },
          "metadata": {},
          "execution_count": 5
        }
      ],
      "source": [
        "coffee_shops.isna().sum()"
      ]
    },
    {
      "cell_type": "code",
      "execution_count": 6,
      "id": "a8d07cd2",
      "metadata": {
        "colab": {
          "base_uri": "https://localhost:8080/"
        },
        "id": "a8d07cd2",
        "outputId": "3e3dbb94-25a7-4385-eae8-18b1680fe5f0"
      },
      "outputs": [
        {
          "output_type": "execute_result",
          "data": {
            "text/plain": [
              "$$     116\n",
              "$$$      4\n",
              "$        2\n",
              "Name: Price, dtype: int64"
            ]
          },
          "metadata": {},
          "execution_count": 6
        }
      ],
      "source": [
        "coffee_shops['Price'].value_counts()"
      ]
    },
    {
      "cell_type": "code",
      "execution_count": 7,
      "id": "387225bf",
      "metadata": {
        "id": "387225bf"
      },
      "outputs": [],
      "source": [
        "coffee_shops['Rating'].fillna(coffee_shops['Rating'].mean().round(1), inplace=True)\n",
        "coffee_shops['Reviews'].fillna(coffee_shops['Reviews'].mean().round(0), inplace=True)\n",
        "coffee_shops['Price'].fillna('$$', inplace=True)\n",
        "coffee_shops['Delivery option'].fillna(False, inplace=True)\n",
        "coffee_shops['Dine in option'].fillna(False, inplace=True)\n",
        "coffee_shops['Takeout option'].fillna(False, inplace=True)"
      ]
    },
    {
      "cell_type": "code",
      "execution_count": 8,
      "id": "0f4adfb3",
      "metadata": {
        "colab": {
          "base_uri": "https://localhost:8080/",
          "height": 424
        },
        "id": "0f4adfb3",
        "outputId": "32d7ae7b-1c50-4335-afbb-57877fda74b9"
      },
      "outputs": [
        {
          "output_type": "execute_result",
          "data": {
            "text/plain": [
              "       Region    Place type  Rating  Reviews  Price  Delivery option  \\\n",
              "0    Mariupol  Coffee store     4.6    206.0      1                0   \n",
              "1    Mariupol          Cafe     5.0     24.0      1                0   \n",
              "2    Mariupol   Coffee shop     5.0     11.0      1                0   \n",
              "3    Mariupol   Coffee shop     4.4    331.0      1                0   \n",
              "4    Mariupol   Coffee shop     5.0     12.0      1                0   \n",
              "..        ...           ...     ...      ...    ...              ...   \n",
              "195    Dnipro    Restaurant     4.6    963.0      2                0   \n",
              "196    Dnipro          Cafe     4.3    646.0      1                0   \n",
              "197    Dnipro          Cafe     4.6     16.0      1                0   \n",
              "198    Dnipro   Coffee shop     4.7    599.0      1                0   \n",
              "199    Dnipro          Cafe     4.3    341.0      1                0   \n",
              "\n",
              "     Dine in option  Takeout option  \n",
              "0                 0               0  \n",
              "1                 0               1  \n",
              "2                 0               1  \n",
              "3                 1               1  \n",
              "4                 1               1  \n",
              "..              ...             ...  \n",
              "195               1               1  \n",
              "196               1               1  \n",
              "197               1               1  \n",
              "198               1               1  \n",
              "199               1               0  \n",
              "\n",
              "[200 rows x 8 columns]"
            ],
            "text/html": [
              "\n",
              "  <div id=\"df-7f0724ca-7286-404e-8ad5-4b03093bd6f4\">\n",
              "    <div class=\"colab-df-container\">\n",
              "      <div>\n",
              "<style scoped>\n",
              "    .dataframe tbody tr th:only-of-type {\n",
              "        vertical-align: middle;\n",
              "    }\n",
              "\n",
              "    .dataframe tbody tr th {\n",
              "        vertical-align: top;\n",
              "    }\n",
              "\n",
              "    .dataframe thead th {\n",
              "        text-align: right;\n",
              "    }\n",
              "</style>\n",
              "<table border=\"1\" class=\"dataframe\">\n",
              "  <thead>\n",
              "    <tr style=\"text-align: right;\">\n",
              "      <th></th>\n",
              "      <th>Region</th>\n",
              "      <th>Place type</th>\n",
              "      <th>Rating</th>\n",
              "      <th>Reviews</th>\n",
              "      <th>Price</th>\n",
              "      <th>Delivery option</th>\n",
              "      <th>Dine in option</th>\n",
              "      <th>Takeout option</th>\n",
              "    </tr>\n",
              "  </thead>\n",
              "  <tbody>\n",
              "    <tr>\n",
              "      <th>0</th>\n",
              "      <td>Mariupol</td>\n",
              "      <td>Coffee store</td>\n",
              "      <td>4.6</td>\n",
              "      <td>206.0</td>\n",
              "      <td>1</td>\n",
              "      <td>0</td>\n",
              "      <td>0</td>\n",
              "      <td>0</td>\n",
              "    </tr>\n",
              "    <tr>\n",
              "      <th>1</th>\n",
              "      <td>Mariupol</td>\n",
              "      <td>Cafe</td>\n",
              "      <td>5.0</td>\n",
              "      <td>24.0</td>\n",
              "      <td>1</td>\n",
              "      <td>0</td>\n",
              "      <td>0</td>\n",
              "      <td>1</td>\n",
              "    </tr>\n",
              "    <tr>\n",
              "      <th>2</th>\n",
              "      <td>Mariupol</td>\n",
              "      <td>Coffee shop</td>\n",
              "      <td>5.0</td>\n",
              "      <td>11.0</td>\n",
              "      <td>1</td>\n",
              "      <td>0</td>\n",
              "      <td>0</td>\n",
              "      <td>1</td>\n",
              "    </tr>\n",
              "    <tr>\n",
              "      <th>3</th>\n",
              "      <td>Mariupol</td>\n",
              "      <td>Coffee shop</td>\n",
              "      <td>4.4</td>\n",
              "      <td>331.0</td>\n",
              "      <td>1</td>\n",
              "      <td>0</td>\n",
              "      <td>1</td>\n",
              "      <td>1</td>\n",
              "    </tr>\n",
              "    <tr>\n",
              "      <th>4</th>\n",
              "      <td>Mariupol</td>\n",
              "      <td>Coffee shop</td>\n",
              "      <td>5.0</td>\n",
              "      <td>12.0</td>\n",
              "      <td>1</td>\n",
              "      <td>0</td>\n",
              "      <td>1</td>\n",
              "      <td>1</td>\n",
              "    </tr>\n",
              "    <tr>\n",
              "      <th>...</th>\n",
              "      <td>...</td>\n",
              "      <td>...</td>\n",
              "      <td>...</td>\n",
              "      <td>...</td>\n",
              "      <td>...</td>\n",
              "      <td>...</td>\n",
              "      <td>...</td>\n",
              "      <td>...</td>\n",
              "    </tr>\n",
              "    <tr>\n",
              "      <th>195</th>\n",
              "      <td>Dnipro</td>\n",
              "      <td>Restaurant</td>\n",
              "      <td>4.6</td>\n",
              "      <td>963.0</td>\n",
              "      <td>2</td>\n",
              "      <td>0</td>\n",
              "      <td>1</td>\n",
              "      <td>1</td>\n",
              "    </tr>\n",
              "    <tr>\n",
              "      <th>196</th>\n",
              "      <td>Dnipro</td>\n",
              "      <td>Cafe</td>\n",
              "      <td>4.3</td>\n",
              "      <td>646.0</td>\n",
              "      <td>1</td>\n",
              "      <td>0</td>\n",
              "      <td>1</td>\n",
              "      <td>1</td>\n",
              "    </tr>\n",
              "    <tr>\n",
              "      <th>197</th>\n",
              "      <td>Dnipro</td>\n",
              "      <td>Cafe</td>\n",
              "      <td>4.6</td>\n",
              "      <td>16.0</td>\n",
              "      <td>1</td>\n",
              "      <td>0</td>\n",
              "      <td>1</td>\n",
              "      <td>1</td>\n",
              "    </tr>\n",
              "    <tr>\n",
              "      <th>198</th>\n",
              "      <td>Dnipro</td>\n",
              "      <td>Coffee shop</td>\n",
              "      <td>4.7</td>\n",
              "      <td>599.0</td>\n",
              "      <td>1</td>\n",
              "      <td>0</td>\n",
              "      <td>1</td>\n",
              "      <td>1</td>\n",
              "    </tr>\n",
              "    <tr>\n",
              "      <th>199</th>\n",
              "      <td>Dnipro</td>\n",
              "      <td>Cafe</td>\n",
              "      <td>4.3</td>\n",
              "      <td>341.0</td>\n",
              "      <td>1</td>\n",
              "      <td>0</td>\n",
              "      <td>1</td>\n",
              "      <td>0</td>\n",
              "    </tr>\n",
              "  </tbody>\n",
              "</table>\n",
              "<p>200 rows × 8 columns</p>\n",
              "</div>\n",
              "      <button class=\"colab-df-convert\" onclick=\"convertToInteractive('df-7f0724ca-7286-404e-8ad5-4b03093bd6f4')\"\n",
              "              title=\"Convert this dataframe to an interactive table.\"\n",
              "              style=\"display:none;\">\n",
              "        \n",
              "  <svg xmlns=\"http://www.w3.org/2000/svg\" height=\"24px\"viewBox=\"0 0 24 24\"\n",
              "       width=\"24px\">\n",
              "    <path d=\"M0 0h24v24H0V0z\" fill=\"none\"/>\n",
              "    <path d=\"M18.56 5.44l.94 2.06.94-2.06 2.06-.94-2.06-.94-.94-2.06-.94 2.06-2.06.94zm-11 1L8.5 8.5l.94-2.06 2.06-.94-2.06-.94L8.5 2.5l-.94 2.06-2.06.94zm10 10l.94 2.06.94-2.06 2.06-.94-2.06-.94-.94-2.06-.94 2.06-2.06.94z\"/><path d=\"M17.41 7.96l-1.37-1.37c-.4-.4-.92-.59-1.43-.59-.52 0-1.04.2-1.43.59L10.3 9.45l-7.72 7.72c-.78.78-.78 2.05 0 2.83L4 21.41c.39.39.9.59 1.41.59.51 0 1.02-.2 1.41-.59l7.78-7.78 2.81-2.81c.8-.78.8-2.07 0-2.86zM5.41 20L4 18.59l7.72-7.72 1.47 1.35L5.41 20z\"/>\n",
              "  </svg>\n",
              "      </button>\n",
              "      \n",
              "  <style>\n",
              "    .colab-df-container {\n",
              "      display:flex;\n",
              "      flex-wrap:wrap;\n",
              "      gap: 12px;\n",
              "    }\n",
              "\n",
              "    .colab-df-convert {\n",
              "      background-color: #E8F0FE;\n",
              "      border: none;\n",
              "      border-radius: 50%;\n",
              "      cursor: pointer;\n",
              "      display: none;\n",
              "      fill: #1967D2;\n",
              "      height: 32px;\n",
              "      padding: 0 0 0 0;\n",
              "      width: 32px;\n",
              "    }\n",
              "\n",
              "    .colab-df-convert:hover {\n",
              "      background-color: #E2EBFA;\n",
              "      box-shadow: 0px 1px 2px rgba(60, 64, 67, 0.3), 0px 1px 3px 1px rgba(60, 64, 67, 0.15);\n",
              "      fill: #174EA6;\n",
              "    }\n",
              "\n",
              "    [theme=dark] .colab-df-convert {\n",
              "      background-color: #3B4455;\n",
              "      fill: #D2E3FC;\n",
              "    }\n",
              "\n",
              "    [theme=dark] .colab-df-convert:hover {\n",
              "      background-color: #434B5C;\n",
              "      box-shadow: 0px 1px 3px 1px rgba(0, 0, 0, 0.15);\n",
              "      filter: drop-shadow(0px 1px 2px rgba(0, 0, 0, 0.3));\n",
              "      fill: #FFFFFF;\n",
              "    }\n",
              "  </style>\n",
              "\n",
              "      <script>\n",
              "        const buttonEl =\n",
              "          document.querySelector('#df-7f0724ca-7286-404e-8ad5-4b03093bd6f4 button.colab-df-convert');\n",
              "        buttonEl.style.display =\n",
              "          google.colab.kernel.accessAllowed ? 'block' : 'none';\n",
              "\n",
              "        async function convertToInteractive(key) {\n",
              "          const element = document.querySelector('#df-7f0724ca-7286-404e-8ad5-4b03093bd6f4');\n",
              "          const dataTable =\n",
              "            await google.colab.kernel.invokeFunction('convertToInteractive',\n",
              "                                                     [key], {});\n",
              "          if (!dataTable) return;\n",
              "\n",
              "          const docLinkHtml = 'Like what you see? Visit the ' +\n",
              "            '<a target=\"_blank\" href=https://colab.research.google.com/notebooks/data_table.ipynb>data table notebook</a>'\n",
              "            + ' to learn more about interactive tables.';\n",
              "          element.innerHTML = '';\n",
              "          dataTable['output_type'] = 'display_data';\n",
              "          await google.colab.output.renderOutput(dataTable, element);\n",
              "          const docLink = document.createElement('div');\n",
              "          docLink.innerHTML = docLinkHtml;\n",
              "          element.appendChild(docLink);\n",
              "        }\n",
              "      </script>\n",
              "    </div>\n",
              "  </div>\n",
              "  "
            ]
          },
          "metadata": {},
          "execution_count": 8
        }
      ],
      "source": [
        "bool_cols = coffee_shops.iloc[:, 5:].columns\n",
        "coffee_shops[bool_cols] = coffee_shops[bool_cols].replace({\n",
        "   True: 1,\n",
        "   False: 0\n",
        "})\n",
        "\n",
        "coffee_shops['Price'] = coffee_shops['Price'].replace({'$':0, '$$':1, '$$$':2})\n",
        "coffee_shops"
      ]
    },
    {
      "cell_type": "code",
      "execution_count": 9,
      "id": "b29447f9",
      "metadata": {
        "colab": {
          "base_uri": "https://localhost:8080/"
        },
        "id": "b29447f9",
        "outputId": "35567cf4-1b4c-4ff9-efc4-9712bd1d93a4"
      },
      "outputs": [
        {
          "output_type": "execute_result",
          "data": {
            "text/plain": [
              "Region             0\n",
              "Place type         0\n",
              "Rating             0\n",
              "Reviews            0\n",
              "Price              0\n",
              "Delivery option    0\n",
              "Dine in option     0\n",
              "Takeout option     0\n",
              "dtype: int64"
            ]
          },
          "metadata": {},
          "execution_count": 9
        }
      ],
      "source": [
        "coffee_shops.isna().sum()"
      ]
    },
    {
      "cell_type": "markdown",
      "source": [
        "##Data Exploration"
      ],
      "metadata": {
        "id": "OFU751dwir6B"
      },
      "id": "OFU751dwir6B"
    },
    {
      "cell_type": "markdown",
      "source": [
        "Checking the **amount** of places by **region**."
      ],
      "metadata": {
        "id": "0v9Rg0omjjjd"
      },
      "id": "0v9Rg0omjjjd"
    },
    {
      "cell_type": "code",
      "execution_count": 10,
      "id": "fff76536",
      "metadata": {
        "colab": {
          "base_uri": "https://localhost:8080/",
          "height": 454
        },
        "id": "fff76536",
        "outputId": "b835907c-1ce4-4e24-e084-1ddf68eea119"
      },
      "outputs": [
        {
          "output_type": "stream",
          "name": "stderr",
          "text": [
            "/usr/local/lib/python3.8/dist-packages/pandas/plotting/_matplotlib/core.py:244: UserWarning: 'color' and 'colormap' cannot be used simultaneously. Using 'color'\n",
            "  warnings.warn(\n",
            "/usr/local/lib/python3.8/dist-packages/pandas/plotting/_matplotlib/style.py:123: UserWarning: 'color' and 'colormap' cannot be used simultaneously. Using 'color'\n",
            "  warnings.warn(\n"
          ]
        },
        {
          "output_type": "display_data",
          "data": {
            "text/plain": [
              "<Figure size 792x648 with 0 Axes>"
            ]
          },
          "metadata": {}
        },
        {
          "output_type": "display_data",
          "data": {
            "text/plain": [
              "<Figure size 432x288 with 1 Axes>"
            ],
            "image/png": "[encoded data removed]"
          },
          "metadata": {
            "needs_background": "light"
          }
        }
      ],
      "source": [
        "plt.figure(figsize = (11,9))\n",
        "coffee_shops.groupby('Region').count().plot(kind = 'bar', color = 'thistle', title = 'Amount of coffeeshops per region', cmap = sns.cubehelix_palette(as_cmap = True))\n",
        "plt.axhline(y = 20, color = 'saddlebrown', linestyle = ':')\n",
        "plt.xlabel(\"Region\")\n",
        "plt.ylabel(\"Amount of places\")\n",
        "plt.show()"
      ]
    },
    {
      "cell_type": "markdown",
      "source": [
        "Making correlation **heatmap**.\n",
        "\n",
        "As you can see below, high correlation occurs only between \"Takeout option\" and \"Dine in option\" attributes. Still, it doesn't have a huge impact."
      ],
      "metadata": {
        "id": "F82lS6QKkB09"
      },
      "id": "F82lS6QKkB09"
    },
    {
      "cell_type": "code",
      "execution_count": 11,
      "id": "fafc41df",
      "metadata": {
        "scrolled": false,
        "colab": {
          "base_uri": "https://localhost:8080/",
          "height": 555
        },
        "id": "fafc41df",
        "outputId": "6aa6d2e6-02c0-40a8-f6ca-b514a53d115c"
      },
      "outputs": [
        {
          "output_type": "execute_result",
          "data": {
            "text/plain": [
              "<matplotlib.axes._subplots.AxesSubplot at 0x7f0aa2979520>"
            ]
          },
          "metadata": {},
          "execution_count": 11
        },
        {
          "output_type": "display_data",
          "data": {
            "text/plain": [
              "<Figure size 792x648 with 2 Axes>"
            ],
            "image/png": "[encoded data removed]"
          },
          "metadata": {}
        }
      ],
      "source": [
        "sns.set_style(\"darkgrid\")\n",
        "corr_w = coffee_shops.corr()\n",
        "dropSelf = np.zeros_like(corr_w)\n",
        "dropSelf[np.triu_indices_from(dropSelf)] = True\n",
        "\n",
        "plt.figure(figsize = (11,9))\n",
        "sns.heatmap(corr_w, cmap = sns.cubehelix_palette(as_cmap = True), annot = True, fmt = \".2f\", mask = dropSelf)"
      ]
    },
    {
      "cell_type": "markdown",
      "source": [
        "On the plot below, there is a violinplot of **ratings** distribution by **place type**.\n",
        "\n",
        "It's easy to notice that half of the values are used only once: exactly 7 place types occur just once, and this single value defines the mean value of the distribution, depicted as a vertical line."
      ],
      "metadata": {
        "id": "34JeWP0FkLRH"
      },
      "id": "34JeWP0FkLRH"
    },
    {
      "cell_type": "code",
      "source": [
        "plt.figure(figsize = (5,10))\n",
        "sns.violinplot(data = coffee_shops, x = \"Rating\", y = \"Place type\", inner = \"stick\")\n",
        "plt.axvline(x = coffee_shops[\"Rating\"].mean(), color = 'saddlebrown', linestyle = ':')\n",
        "plt.title('Distribution of ratings by place type')\n",
        "plt.show()"
      ],
      "metadata": {
        "colab": {
          "base_uri": "https://localhost:8080/",
          "height": 621
        },
        "id": "XGrfk6YuXdt2",
        "outputId": "a4fd4939-68ce-4c54-9369-33fc304a6ca9"
      },
      "id": "XGrfk6YuXdt2",
      "execution_count": 12,
      "outputs": [
        {
          "output_type": "display_data",
          "data": {
            "text/plain": [
              "<Figure size 360x720 with 1 Axes>"
            ],
            "image/png": "[encoded data removed]"
          },
          "metadata": {}
        }
      ]
    },
    {
      "cell_type": "markdown",
      "source": [
        "Below, is a plot that shows the amount of a single place type occurrence.\n",
        "\n",
        "The majority of records are from coffee shops and cafés."
      ],
      "metadata": {
        "id": "Gzkv6skXmiX9"
      },
      "id": "Gzkv6skXmiX9"
    },
    {
      "cell_type": "code",
      "source": [
        "plt.figure(figsize = (15, 10))\n",
        "places_amount = coffee_shops['Place type'].value_counts()\n",
        "sns.barplot(x = places_amount.values, y = places_amount.index, order = coffee_shops['Place type'].value_counts().index, palette = sns.cubehelix_palette(14))\n",
        "plt.xlabel(\"Amount\")\n",
        "plt.ylabel(\"Type of place\")\n",
        "plt.title(\"Amount of places\")\n",
        "plt.show()"
      ],
      "metadata": {
        "colab": {
          "base_uri": "https://localhost:8080/",
          "height": 621
        },
        "id": "jtjrvvrQHujA",
        "outputId": "f1602391-6eb2-4a18-ed3f-fe00bb0a344b"
      },
      "id": "jtjrvvrQHujA",
      "execution_count": 13,
      "outputs": [
        {
          "output_type": "display_data",
          "data": {
            "text/plain": [
              "<Figure size 1080x720 with 1 Axes>"
            ],
            "image/png": "[encoded data removed]"
          },
          "metadata": {}
        }
      ]
    },
    {
      "cell_type": "markdown",
      "source": [
        "Distributions of places with a certain **price range**.\n",
        "\n",
        "It's noticeable, that the vast majority of places belong to the medium price range (or $$). Important to remember, that 78 of them were NaN values and medium range was assigned manually."
      ],
      "metadata": {
        "id": "oib9nE-unE5z"
      },
      "id": "oib9nE-unE5z"
    },
    {
      "cell_type": "code",
      "source": [
        "disp = sns.displot(coffee_shops, x = \"Rating\", hue = \"Price\", kind = \"kde\", fill = True)\n",
        "disp.fig.set_figwidth(10)\n",
        "disp.fig.set_figheight(10)"
      ],
      "metadata": {
        "colab": {
          "base_uri": "https://localhost:8080/",
          "height": 673
        },
        "id": "1e6FBpRyZ_Ia",
        "outputId": "37ce94c5-2c4a-48c4-a4b9-dfd970eb6674"
      },
      "id": "1e6FBpRyZ_Ia",
      "execution_count": 14,
      "outputs": [
        {
          "output_type": "display_data",
          "data": {
            "text/plain": [
              "<Figure size 720x720 with 1 Axes>"
            ],
            "image/png": "[encoded data removed]"
          },
          "metadata": {}
        }
      ]
    },
    {
      "cell_type": "markdown",
      "source": [
        "##Dimensionality reduction and Clustering"
      ],
      "metadata": {
        "id": "8q6OGGcYoQH1"
      },
      "id": "8q6OGGcYoQH1"
    },
    {
      "cell_type": "markdown",
      "source": [
        "In this project, I will compare the performance of two models: K-means and Hierarchical Clustering.\n",
        "\n",
        "Starting with creating a copy of the original coffee shop's data frame for further transformations."
      ],
      "metadata": {
        "id": "_TWxAVocp0i8"
      },
      "id": "_TWxAVocp0i8"
    },
    {
      "cell_type": "code",
      "source": [
        "cs_transformed = coffee_shops.copy()"
      ],
      "metadata": {
        "id": "N8paO1D1LC8R"
      },
      "id": "N8paO1D1LC8R",
      "execution_count": 15,
      "outputs": []
    },
    {
      "cell_type": "markdown",
      "source": [
        "I'm going to use Target Encoding to encode categorical values, such as Region and Place type. I chose this particular algorithm because we deal with a wide variety of values."
      ],
      "metadata": {
        "id": "p1Wl5TihqbXc"
      },
      "id": "p1Wl5TihqbXc"
    },
    {
      "cell_type": "code",
      "source": [
        "tenc = ce.TargetEncoder()\n",
        "regionEncoded = tenc.fit_transform(cs_transformed['Region'], cs_transformed['Rating']).round(1)\n",
        "placeTypeEncoded = tenc.fit_transform(cs_transformed['Place type'], cs_transformed['Reviews']).round(0)\n",
        "\n",
        "cs_transformed = placeTypeEncoded.join(cs_transformed.drop('Place type',axis = 1))\n",
        "cs_transformed = regionEncoded.join(cs_transformed.drop('Region',axis = 1))\n",
        "cs_transformed"
      ],
      "metadata": {
        "colab": {
          "base_uri": "https://localhost:8080/",
          "height": 424
        },
        "id": "4p93YmBaZ_PL",
        "outputId": "03697c76-40cf-4fce-8bd0-28af95c2890c"
      },
      "id": "4p93YmBaZ_PL",
      "execution_count": 16,
      "outputs": [
        {
          "output_type": "execute_result",
          "data": {
            "text/plain": [
              "     Region  Place type  Rating  Reviews  Price  Delivery option  \\\n",
              "0       4.7       543.0     4.6    206.0      1                0   \n",
              "1       4.7       536.0     5.0     24.0      1                0   \n",
              "2       4.7       736.0     5.0     11.0      1                0   \n",
              "3       4.7       736.0     4.4    331.0      1                0   \n",
              "4       4.7       736.0     5.0     12.0      1                0   \n",
              "..      ...         ...     ...      ...    ...              ...   \n",
              "195     4.6       667.0     4.6    963.0      2                0   \n",
              "196     4.6       536.0     4.3    646.0      1                0   \n",
              "197     4.6       536.0     4.6     16.0      1                0   \n",
              "198     4.6       736.0     4.7    599.0      1                0   \n",
              "199     4.6       536.0     4.3    341.0      1                0   \n",
              "\n",
              "     Dine in option  Takeout option  \n",
              "0                 0               0  \n",
              "1                 0               1  \n",
              "2                 0               1  \n",
              "3                 1               1  \n",
              "4                 1               1  \n",
              "..              ...             ...  \n",
              "195               1               1  \n",
              "196               1               1  \n",
              "197               1               1  \n",
              "198               1               1  \n",
              "199               1               0  \n",
              "\n",
              "[200 rows x 8 columns]"
            ],
            "text/html": [
              "\n",
              "  <div id=\"df-1cb8eb8b-1140-4fe5-af58-1506591c554f\">\n",
              "    <div class=\"colab-df-container\">\n",
              "      <div>\n",
              "<style scoped>\n",
              "    .dataframe tbody tr th:only-of-type {\n",
              "        vertical-align: middle;\n",
              "    }\n",
              "\n",
              "    .dataframe tbody tr th {\n",
              "        vertical-align: top;\n",
              "    }\n",
              "\n",
              "    .dataframe thead th {\n",
              "        text-align: right;\n",
              "    }\n",
              "</style>\n",
              "<table border=\"1\" class=\"dataframe\">\n",
              "  <thead>\n",
              "    <tr style=\"text-align: right;\">\n",
              "      <th></th>\n",
              "      <th>Region</th>\n",
              "      <th>Place type</th>\n",
              "      <th>Rating</th>\n",
              "      <th>Reviews</th>\n",
              "      <th>Price</th>\n",
              "      <th>Delivery option</th>\n",
              "      <th>Dine in option</th>\n",
              "      <th>Takeout option</th>\n",
              "    </tr>\n",
              "  </thead>\n",
              "  <tbody>\n",
              "    <tr>\n",
              "      <th>0</th>\n",
              "      <td>4.7</td>\n",
              "      <td>543.0</td>\n",
              "      <td>4.6</td>\n",
              "      <td>206.0</td>\n",
              "      <td>1</td>\n",
              "      <td>0</td>\n",
              "      <td>0</td>\n",
              "      <td>0</td>\n",
              "    </tr>\n",
              "    <tr>\n",
              "      <th>1</th>\n",
              "      <td>4.7</td>\n",
              "      <td>536.0</td>\n",
              "      <td>5.0</td>\n",
              "      <td>24.0</td>\n",
              "      <td>1</td>\n",
              "      <td>0</td>\n",
              "      <td>0</td>\n",
              "      <td>1</td>\n",
              "    </tr>\n",
              "    <tr>\n",
              "      <th>2</th>\n",
              "      <td>4.7</td>\n",
              "      <td>736.0</td>\n",
              "      <td>5.0</td>\n",
              "      <td>11.0</td>\n",
              "      <td>1</td>\n",
              "      <td>0</td>\n",
              "      <td>0</td>\n",
              "      <td>1</td>\n",
              "    </tr>\n",
              "    <tr>\n",
              "      <th>3</th>\n",
              "      <td>4.7</td>\n",
              "      <td>736.0</td>\n",
              "      <td>4.4</td>\n",
              "      <td>331.0</td>\n",
              "      <td>1</td>\n",
              "      <td>0</td>\n",
              "      <td>1</td>\n",
              "      <td>1</td>\n",
              "    </tr>\n",
              "    <tr>\n",
              "      <th>4</th>\n",
              "      <td>4.7</td>\n",
              "      <td>736.0</td>\n",
              "      <td>5.0</td>\n",
              "      <td>12.0</td>\n",
              "      <td>1</td>\n",
              "      <td>0</td>\n",
              "      <td>1</td>\n",
              "      <td>1</td>\n",
              "    </tr>\n",
              "    <tr>\n",
              "      <th>...</th>\n",
              "      <td>...</td>\n",
              "      <td>...</td>\n",
              "      <td>...</td>\n",
              "      <td>...</td>\n",
              "      <td>...</td>\n",
              "      <td>...</td>\n",
              "      <td>...</td>\n",
              "      <td>...</td>\n",
              "    </tr>\n",
              "    <tr>\n",
              "      <th>195</th>\n",
              "      <td>4.6</td>\n",
              "      <td>667.0</td>\n",
              "      <td>4.6</td>\n",
              "      <td>963.0</td>\n",
              "      <td>2</td>\n",
              "      <td>0</td>\n",
              "      <td>1</td>\n",
              "      <td>1</td>\n",
              "    </tr>\n",
              "    <tr>\n",
              "      <th>196</th>\n",
              "      <td>4.6</td>\n",
              "      <td>536.0</td>\n",
              "      <td>4.3</td>\n",
              "      <td>646.0</td>\n",
              "      <td>1</td>\n",
              "      <td>0</td>\n",
              "      <td>1</td>\n",
              "      <td>1</td>\n",
              "    </tr>\n",
              "    <tr>\n",
              "      <th>197</th>\n",
              "      <td>4.6</td>\n",
              "      <td>536.0</td>\n",
              "      <td>4.6</td>\n",
              "      <td>16.0</td>\n",
              "      <td>1</td>\n",
              "      <td>0</td>\n",
              "      <td>1</td>\n",
              "      <td>1</td>\n",
              "    </tr>\n",
              "    <tr>\n",
              "      <th>198</th>\n",
              "      <td>4.6</td>\n",
              "      <td>736.0</td>\n",
              "      <td>4.7</td>\n",
              "      <td>599.0</td>\n",
              "      <td>1</td>\n",
              "      <td>0</td>\n",
              "      <td>1</td>\n",
              "      <td>1</td>\n",
              "    </tr>\n",
              "    <tr>\n",
              "      <th>199</th>\n",
              "      <td>4.6</td>\n",
              "      <td>536.0</td>\n",
              "      <td>4.3</td>\n",
              "      <td>341.0</td>\n",
              "      <td>1</td>\n",
              "      <td>0</td>\n",
              "      <td>1</td>\n",
              "      <td>0</td>\n",
              "    </tr>\n",
              "  </tbody>\n",
              "</table>\n",
              "<p>200 rows × 8 columns</p>\n",
              "</div>\n",
              "      <button class=\"colab-df-convert\" onclick=\"convertToInteractive('df-1cb8eb8b-1140-4fe5-af58-1506591c554f')\"\n",
              "              title=\"Convert this dataframe to an interactive table.\"\n",
              "              style=\"display:none;\">\n",
              "        \n",
              "  <svg xmlns=\"http://www.w3.org/2000/svg\" height=\"24px\"viewBox=\"0 0 24 24\"\n",
              "       width=\"24px\">\n",
              "    <path d=\"M0 0h24v24H0V0z\" fill=\"none\"/>\n",
              "    <path d=\"M18.56 5.44l.94 2.06.94-2.06 2.06-.94-2.06-.94-.94-2.06-.94 2.06-2.06.94zm-11 1L8.5 8.5l.94-2.06 2.06-.94-2.06-.94L8.5 2.5l-.94 2.06-2.06.94zm10 10l.94 2.06.94-2.06 2.06-.94-2.06-.94-.94-2.06-.94 2.06-2.06.94z\"/><path d=\"M17.41 7.96l-1.37-1.37c-.4-.4-.92-.59-1.43-.59-.52 0-1.04.2-1.43.59L10.3 9.45l-7.72 7.72c-.78.78-.78 2.05 0 2.83L4 21.41c.39.39.9.59 1.41.59.51 0 1.02-.2 1.41-.59l7.78-7.78 2.81-2.81c.8-.78.8-2.07 0-2.86zM5.41 20L4 18.59l7.72-7.72 1.47 1.35L5.41 20z\"/>\n",
              "  </svg>\n",
              "      </button>\n",
              "      \n",
              "  <style>\n",
              "    .colab-df-container {\n",
              "      display:flex;\n",
              "      flex-wrap:wrap;\n",
              "      gap: 12px;\n",
              "    }\n",
              "\n",
              "    .colab-df-convert {\n",
              "      background-color: #E8F0FE;\n",
              "      border: none;\n",
              "      border-radius: 50%;\n",
              "      cursor: pointer;\n",
              "      display: none;\n",
              "      fill: #1967D2;\n",
              "      height: 32px;\n",
              "      padding: 0 0 0 0;\n",
              "      width: 32px;\n",
              "    }\n",
              "\n",
              "    .colab-df-convert:hover {\n",
              "      background-color: #E2EBFA;\n",
              "      box-shadow: 0px 1px 2px rgba(60, 64, 67, 0.3), 0px 1px 3px 1px rgba(60, 64, 67, 0.15);\n",
              "      fill: #174EA6;\n",
              "    }\n",
              "\n",
              "    [theme=dark] .colab-df-convert {\n",
              "      background-color: #3B4455;\n",
              "      fill: #D2E3FC;\n",
              "    }\n",
              "\n",
              "    [theme=dark] .colab-df-convert:hover {\n",
              "      background-color: #434B5C;\n",
              "      box-shadow: 0px 1px 3px 1px rgba(0, 0, 0, 0.15);\n",
              "      filter: drop-shadow(0px 1px 2px rgba(0, 0, 0, 0.3));\n",
              "      fill: #FFFFFF;\n",
              "    }\n",
              "  </style>\n",
              "\n",
              "      <script>\n",
              "        const buttonEl =\n",
              "          document.querySelector('#df-1cb8eb8b-1140-4fe5-af58-1506591c554f button.colab-df-convert');\n",
              "        buttonEl.style.display =\n",
              "          google.colab.kernel.accessAllowed ? 'block' : 'none';\n",
              "\n",
              "        async function convertToInteractive(key) {\n",
              "          const element = document.querySelector('#df-1cb8eb8b-1140-4fe5-af58-1506591c554f');\n",
              "          const dataTable =\n",
              "            await google.colab.kernel.invokeFunction('convertToInteractive',\n",
              "                                                     [key], {});\n",
              "          if (!dataTable) return;\n",
              "\n",
              "          const docLinkHtml = 'Like what you see? Visit the ' +\n",
              "            '<a target=\"_blank\" href=https://colab.research.google.com/notebooks/data_table.ipynb>data table notebook</a>'\n",
              "            + ' to learn more about interactive tables.';\n",
              "          element.innerHTML = '';\n",
              "          dataTable['output_type'] = 'display_data';\n",
              "          await google.colab.output.renderOutput(dataTable, element);\n",
              "          const docLink = document.createElement('div');\n",
              "          docLink.innerHTML = docLinkHtml;\n",
              "          element.appendChild(docLink);\n",
              "        }\n",
              "      </script>\n",
              "    </div>\n",
              "  </div>\n",
              "  "
            ]
          },
          "metadata": {},
          "execution_count": 16
        }
      ]
    },
    {
      "cell_type": "markdown",
      "source": [
        "Applying scaling, before PCA."
      ],
      "metadata": {
        "id": "B7hJE8y5q_Ha"
      },
      "id": "B7hJE8y5q_Ha"
    },
    {
      "cell_type": "code",
      "source": [
        "sc = StandardScaler()\n",
        "cs_transformed = sc.fit_transform(cs_transformed)"
      ],
      "metadata": {
        "id": "9Na55Mb-F-_a"
      },
      "id": "9Na55Mb-F-_a",
      "execution_count": 17,
      "outputs": []
    },
    {
      "cell_type": "markdown",
      "source": [
        "Reducing dimensionality to 2 components."
      ],
      "metadata": {
        "id": "SU5miZAzrFcs"
      },
      "id": "SU5miZAzrFcs"
    },
    {
      "cell_type": "code",
      "source": [
        "pca = PCA(n_components = 2)\n",
        "cs_transformed = pca.fit_transform(cs_transformed)"
      ],
      "metadata": {
        "id": "trByjVb29Ha9"
      },
      "id": "trByjVb29Ha9",
      "execution_count": 18,
      "outputs": []
    },
    {
      "cell_type": "markdown",
      "source": [
        "###K-means"
      ],
      "metadata": {
        "id": "ztJBmLAhyPqM"
      },
      "id": "ztJBmLAhyPqM"
    },
    {
      "cell_type": "markdown",
      "source": [
        "I'm using an Elbow Method to find the optimal amount of clusters. In this case, the \"elbow\" is at 3."
      ],
      "metadata": {
        "id": "N2cNy7nCrQuN"
      },
      "id": "N2cNy7nCrQuN"
    },
    {
      "cell_type": "code",
      "source": [
        "wcss = []\n",
        "for i in range(1, 11):\n",
        "  kmeans = KMeans(n_clusters = i, init = 'k-means++', random_state = 42)\n",
        "  kmeans.fit(cs_transformed)\n",
        "  wcss.append(kmeans.inertia_)\n",
        "\n",
        "plt.plot(range(1, 11), wcss)\n",
        "plt.title(\"The Elbow Method\")\n",
        "plt.xlabel(\"Number of clusters\")\n",
        "plt.ylabel(\"WCSS\")"
      ],
      "metadata": {
        "colab": {
          "base_uri": "https://localhost:8080/",
          "height": 313
        },
        "id": "xW5iAnY6G1Ug",
        "outputId": "be92ffd8-fe37-41b9-b043-bb325a11df70"
      },
      "id": "xW5iAnY6G1Ug",
      "execution_count": 19,
      "outputs": [
        {
          "output_type": "execute_result",
          "data": {
            "text/plain": [
              "Text(0, 0.5, 'WCSS')"
            ]
          },
          "metadata": {},
          "execution_count": 19
        },
        {
          "output_type": "display_data",
          "data": {
            "text/plain": [
              "<Figure size 432x288 with 1 Axes>"
            ],
            "image/png": "[encoded data removed]"
          },
          "metadata": {}
        }
      ]
    },
    {
      "cell_type": "markdown",
      "source": [
        "Training K-means model and performing clustering."
      ],
      "metadata": {
        "id": "SbgbyXFJxt4R"
      },
      "id": "SbgbyXFJxt4R"
    },
    {
      "cell_type": "code",
      "source": [
        "kmeans = KMeans(n_clusters = 3, init = 'k-means++', random_state = 42)\n",
        "y_kmeans = kmeans.fit_predict(cs_transformed)\n",
        "y_kmeans"
      ],
      "metadata": {
        "colab": {
          "base_uri": "https://localhost:8080/"
        },
        "id": "EdzXnpM39HdG",
        "outputId": "5e4c49fe-9042-4bfb-b170-2fec14f4d011"
      },
      "id": "EdzXnpM39HdG",
      "execution_count": 20,
      "outputs": [
        {
          "output_type": "execute_result",
          "data": {
            "text/plain": [
              "array([1, 1, 1, 0, 0, 0, 0, 0, 0, 0, 0, 1, 0, 0, 2, 2, 2, 0, 2, 0, 0, 0,\n",
              "       0, 1, 1, 1, 2, 0, 0, 2, 1, 0, 0, 1, 0, 1, 0, 0, 1, 1, 1, 0, 0, 1,\n",
              "       0, 0, 0, 1, 1, 1, 0, 0, 1, 0, 0, 0, 1, 0, 2, 1, 1, 1, 1, 1, 0, 1,\n",
              "       1, 1, 1, 1, 1, 0, 2, 0, 0, 0, 0, 0, 1, 2, 0, 0, 1, 0, 0, 2, 1, 1,\n",
              "       0, 0, 1, 0, 1, 1, 1, 1, 0, 0, 1, 1, 0, 0, 0, 0, 0, 0, 0, 0, 0, 0,\n",
              "       0, 0, 0, 0, 0, 2, 1, 0, 0, 0, 2, 2, 0, 2, 2, 0, 2, 2, 1, 2, 2, 1,\n",
              "       2, 2, 2, 2, 2, 0, 2, 1, 1, 1, 1, 1, 1, 0, 1, 0, 0, 0, 0, 0, 2, 1,\n",
              "       0, 1, 0, 0, 0, 1, 2, 1, 0, 0, 0, 0, 1, 1, 2, 0, 1, 1, 2, 0, 0, 0,\n",
              "       2, 0, 0, 0, 2, 1, 2, 2, 2, 1, 1, 0, 2, 2, 2, 2, 0, 2, 2, 2, 2, 2,\n",
              "       0, 2], dtype=int32)"
            ]
          },
          "metadata": {},
          "execution_count": 20
        }
      ]
    },
    {
      "cell_type": "markdown",
      "source": [
        "Visualization of clusters."
      ],
      "metadata": {
        "id": "gcN9C_gEx00K"
      },
      "id": "gcN9C_gEx00K"
    },
    {
      "cell_type": "code",
      "source": [
        "plt.scatter(kmeans.cluster_centers_[:, 0], kmeans.cluster_centers_[:, 1], s = 30, c = 'yellow', label = 'Centroids')\n",
        "\n",
        "plt.scatter(cs_transformed[y_kmeans == 0, 0], cs_transformed[y_kmeans == 0, 1], s = 20, c = 'skyblue', label = 'Cluster 1')\n",
        "plt.scatter(cs_transformed[y_kmeans == 1, 0], cs_transformed[y_kmeans == 1, 1], s = 20, c = 'thistle', label = 'Cluster 2')\n",
        "plt.scatter(cs_transformed[y_kmeans == 2, 0], cs_transformed[y_kmeans == 2, 1], s = 20, c = 'slateblue', label = 'Cluster 3')\n",
        "\n",
        "plt.title(\"Clusters\")\n",
        "plt.xlabel(\"PC1\")\n",
        "plt.ylabel(\"PC2\")\n",
        "plt.legend()\n",
        "plt.show()"
      ],
      "metadata": {
        "colab": {
          "base_uri": "https://localhost:8080/",
          "height": 295
        },
        "id": "3BoBAgP3DYBv",
        "outputId": "48d49bc4-4546-4ac5-9362-a827faa80cef"
      },
      "id": "3BoBAgP3DYBv",
      "execution_count": 21,
      "outputs": [
        {
          "output_type": "display_data",
          "data": {
            "text/plain": [
              "<Figure size 432x288 with 1 Axes>"
            ],
            "image/png": "[encoded data removed]"
          },
          "metadata": {}
        }
      ]
    },
    {
      "cell_type": "markdown",
      "source": [
        "###Hierarchical clustering"
      ],
      "metadata": {
        "id": "Wgr7Tc-gySKH"
      },
      "id": "Wgr7Tc-gySKH"
    },
    {
      "cell_type": "markdown",
      "source": [
        "Building a dendrogram to find the optimal amount of clusters. The longest vertical line, that can't be crossed horizontally, will establish the threshold at the level of 3 clusters."
      ],
      "metadata": {
        "id": "n2HtI3lWyVcb"
      },
      "id": "n2HtI3lWyVcb"
    },
    {
      "cell_type": "code",
      "source": [
        "sch.dendrogram(sch.linkage(cs_transformed, method = 'ward'))\n",
        "plt.axhline(y = 12.5, color = 'saddlebrown', linestyle = ':', label = 'threshold')\n",
        "plt.title(\"Dendrogram\")\n",
        "plt.xlabel(\"Places\")\n",
        "plt.ylabel(\"Euclidean distances\")\n",
        "plt.legend(loc=\"upper right\")\n",
        "plt.show()"
      ],
      "metadata": {
        "colab": {
          "base_uri": "https://localhost:8080/",
          "height": 295
        },
        "id": "Ng-0w7JUyWFv",
        "outputId": "45f1a7f2-c38f-43e7-ce25-0afd0a5a199f"
      },
      "id": "Ng-0w7JUyWFv",
      "execution_count": 22,
      "outputs": [
        {
          "output_type": "display_data",
          "data": {
            "text/plain": [
              "<Figure size 432x288 with 1 Axes>"
            ],
            "image/png": "[encoded data removed]"
          },
          "metadata": {}
        }
      ]
    },
    {
      "cell_type": "markdown",
      "source": [
        "Training and applying Hierarchical Clustering."
      ],
      "metadata": {
        "id": "a9smVmoybMGo"
      },
      "id": "a9smVmoybMGo"
    },
    {
      "cell_type": "code",
      "source": [
        "hc = AgglomerativeClustering(n_clusters = 3, affinity = \"euclidean\", linkage = \"ward\")\n",
        "y_hc = hc.fit_predict(cs_transformed)"
      ],
      "metadata": {
        "id": "Otcm36mXygSR"
      },
      "id": "Otcm36mXygSR",
      "execution_count": 23,
      "outputs": []
    },
    {
      "cell_type": "code",
      "source": [
        "y_hc"
      ],
      "metadata": {
        "colab": {
          "base_uri": "https://localhost:8080/"
        },
        "id": "EcTuiXVryl8C",
        "outputId": "7cf15b0f-48c6-43d4-d939-6eedb029fdb3"
      },
      "id": "EcTuiXVryl8C",
      "execution_count": 24,
      "outputs": [
        {
          "output_type": "execute_result",
          "data": {
            "text/plain": [
              "array([0, 0, 0, 1, 1, 1, 1, 0, 1, 1, 1, 0, 1, 1, 2, 2, 2, 0, 2, 1, 1, 1,\n",
              "       0, 0, 0, 0, 2, 1, 1, 2, 0, 1, 1, 0, 1, 0, 1, 1, 0, 0, 0, 1, 1, 0,\n",
              "       1, 1, 1, 0, 0, 0, 1, 1, 0, 1, 0, 1, 0, 1, 2, 0, 0, 0, 0, 0, 1, 0,\n",
              "       0, 0, 0, 0, 0, 1, 2, 1, 1, 1, 1, 1, 0, 2, 1, 1, 0, 1, 1, 2, 0, 0,\n",
              "       1, 1, 0, 1, 0, 0, 0, 0, 1, 1, 0, 0, 1, 1, 1, 1, 1, 1, 1, 1, 1, 1,\n",
              "       1, 1, 1, 1, 1, 2, 0, 1, 1, 1, 2, 2, 1, 0, 2, 1, 2, 0, 0, 2, 2, 0,\n",
              "       2, 2, 2, 2, 2, 1, 2, 0, 0, 0, 0, 0, 0, 1, 0, 1, 1, 1, 1, 1, 2, 0,\n",
              "       1, 0, 1, 1, 1, 0, 2, 0, 1, 1, 1, 1, 0, 0, 2, 1, 0, 0, 2, 1, 1, 1,\n",
              "       2, 1, 1, 1, 2, 0, 2, 2, 2, 0, 0, 1, 2, 2, 2, 2, 1, 2, 2, 2, 2, 2,\n",
              "       1, 2])"
            ]
          },
          "metadata": {},
          "execution_count": 24
        }
      ]
    },
    {
      "cell_type": "markdown",
      "source": [
        "Clusters visualization and comparison."
      ],
      "metadata": {
        "id": "gvfsUZ4vb2w-"
      },
      "id": "gvfsUZ4vb2w-"
    },
    {
      "cell_type": "code",
      "source": [
        "plt.figure(figsize = (15, 5))\n",
        "\n",
        "plt.subplot(1, 2, 1)\n",
        "plt.scatter(cs_transformed[y_kmeans == 0, 0], cs_transformed[y_kmeans == 0, 1], s = 20, c = 'skyblue', label = 'Cluster 1')\n",
        "plt.scatter(cs_transformed[y_kmeans == 1, 0], cs_transformed[y_kmeans == 1, 1], s = 20, c = 'thistle', label = 'Cluster 2')\n",
        "plt.scatter(cs_transformed[y_kmeans == 2, 0], cs_transformed[y_kmeans == 2, 1], s = 20, c = 'slateblue', label = 'Cluster 3')\n",
        "plt.title(\"K-means results\")\n",
        "plt.xlabel(\"PC1\")\n",
        "plt.ylabel(\"PC2\")\n",
        "plt.legend()\n",
        "\n",
        "plt.subplot(1, 2, 2)\n",
        "plt.scatter(cs_transformed[y_hc == 0, 0], cs_transformed[y_hc == 0, 1], s = 20, c = 'skyblue', label = 'Cluster 1')\n",
        "plt.scatter(cs_transformed[y_hc == 1, 0], cs_transformed[y_hc == 1, 1], s = 20, c = 'thistle', label = 'Cluster 2')\n",
        "plt.scatter(cs_transformed[y_hc == 2, 0], cs_transformed[y_hc == 2, 1], s = 20, c = 'slateblue', label = 'Cluster 3')\n",
        "plt.title(\"HC results\")\n",
        "plt.xlabel(\"PC1\")\n",
        "plt.ylabel(\"PC2\")\n",
        "plt.legend()\n",
        "\n",
        "plt.show()"
      ],
      "metadata": {
        "colab": {
          "base_uri": "https://localhost:8080/",
          "height": 350
        },
        "id": "PQbBwDPgyncM",
        "outputId": "3daa849c-561c-4462-cfcd-8c861b9a7134"
      },
      "id": "PQbBwDPgyncM",
      "execution_count": 25,
      "outputs": [
        {
          "output_type": "display_data",
          "data": {
            "text/plain": [
              "<Figure size 1080x360 with 2 Axes>"
            ],
            "image/png": "[encoded data removed]"
          },
          "metadata": {}
        }
      ]
    },
    {
      "cell_type": "markdown",
      "source": [
        "It's easy to notice, that data points got clustered almost identically."
      ],
      "metadata": {
        "id": "ad-hWz9zcNnu"
      },
      "id": "ad-hWz9zcNnu"
    },
    {
      "cell_type": "markdown",
      "source": [
        "Result vectors:"
      ],
      "metadata": {
        "id": "oeQZZn4bcC7W"
      },
      "id": "oeQZZn4bcC7W"
    },
    {
      "cell_type": "code",
      "source": [
        "print(np.concatenate((y_kmeans.reshape(len(y_kmeans),1), y_hc.reshape(len(y_hc),1)),1))"
      ],
      "metadata": {
        "id": "Jg7iACXZy6Ws",
        "colab": {
          "base_uri": "https://localhost:8080/"
        },
        "outputId": "890c24dd-dfbe-4c4f-df59-5277b6abecc1"
      },
      "id": "Jg7iACXZy6Ws",
      "execution_count": 26,
      "outputs": [
        {
          "output_type": "stream",
          "name": "stdout",
          "text": [
            "[[1 0]\n",
            " [1 0]\n",
            " [1 0]\n",
            " [0 1]\n",
            " [0 1]\n",
            " [0 1]\n",
            " [0 1]\n",
            " [0 0]\n",
            " [0 1]\n",
            " [0 1]\n",
            " [0 1]\n",
            " [1 0]\n",
            " [0 1]\n",
            " [0 1]\n",
            " [2 2]\n",
            " [2 2]\n",
            " [2 2]\n",
            " [0 0]\n",
            " [2 2]\n",
            " [0 1]\n",
            " [0 1]\n",
            " [0 1]\n",
            " [0 0]\n",
            " [1 0]\n",
            " [1 0]\n",
            " [1 0]\n",
            " [2 2]\n",
            " [0 1]\n",
            " [0 1]\n",
            " [2 2]\n",
            " [1 0]\n",
            " [0 1]\n",
            " [0 1]\n",
            " [1 0]\n",
            " [0 1]\n",
            " [1 0]\n",
            " [0 1]\n",
            " [0 1]\n",
            " [1 0]\n",
            " [1 0]\n",
            " [1 0]\n",
            " [0 1]\n",
            " [0 1]\n",
            " [1 0]\n",
            " [0 1]\n",
            " [0 1]\n",
            " [0 1]\n",
            " [1 0]\n",
            " [1 0]\n",
            " [1 0]\n",
            " [0 1]\n",
            " [0 1]\n",
            " [1 0]\n",
            " [0 1]\n",
            " [0 0]\n",
            " [0 1]\n",
            " [1 0]\n",
            " [0 1]\n",
            " [2 2]\n",
            " [1 0]\n",
            " [1 0]\n",
            " [1 0]\n",
            " [1 0]\n",
            " [1 0]\n",
            " [0 1]\n",
            " [1 0]\n",
            " [1 0]\n",
            " [1 0]\n",
            " [1 0]\n",
            " [1 0]\n",
            " [1 0]\n",
            " [0 1]\n",
            " [2 2]\n",
            " [0 1]\n",
            " [0 1]\n",
            " [0 1]\n",
            " [0 1]\n",
            " [0 1]\n",
            " [1 0]\n",
            " [2 2]\n",
            " [0 1]\n",
            " [0 1]\n",
            " [1 0]\n",
            " [0 1]\n",
            " [0 1]\n",
            " [2 2]\n",
            " [1 0]\n",
            " [1 0]\n",
            " [0 1]\n",
            " [0 1]\n",
            " [1 0]\n",
            " [0 1]\n",
            " [1 0]\n",
            " [1 0]\n",
            " [1 0]\n",
            " [1 0]\n",
            " [0 1]\n",
            " [0 1]\n",
            " [1 0]\n",
            " [1 0]\n",
            " [0 1]\n",
            " [0 1]\n",
            " [0 1]\n",
            " [0 1]\n",
            " [0 1]\n",
            " [0 1]\n",
            " [0 1]\n",
            " [0 1]\n",
            " [0 1]\n",
            " [0 1]\n",
            " [0 1]\n",
            " [0 1]\n",
            " [0 1]\n",
            " [0 1]\n",
            " [0 1]\n",
            " [2 2]\n",
            " [1 0]\n",
            " [0 1]\n",
            " [0 1]\n",
            " [0 1]\n",
            " [2 2]\n",
            " [2 2]\n",
            " [0 1]\n",
            " [2 0]\n",
            " [2 2]\n",
            " [0 1]\n",
            " [2 2]\n",
            " [2 0]\n",
            " [1 0]\n",
            " [2 2]\n",
            " [2 2]\n",
            " [1 0]\n",
            " [2 2]\n",
            " [2 2]\n",
            " [2 2]\n",
            " [2 2]\n",
            " [2 2]\n",
            " [0 1]\n",
            " [2 2]\n",
            " [1 0]\n",
            " [1 0]\n",
            " [1 0]\n",
            " [1 0]\n",
            " [1 0]\n",
            " [1 0]\n",
            " [0 1]\n",
            " [1 0]\n",
            " [0 1]\n",
            " [0 1]\n",
            " [0 1]\n",
            " [0 1]\n",
            " [0 1]\n",
            " [2 2]\n",
            " [1 0]\n",
            " [0 1]\n",
            " [1 0]\n",
            " [0 1]\n",
            " [0 1]\n",
            " [0 1]\n",
            " [1 0]\n",
            " [2 2]\n",
            " [1 0]\n",
            " [0 1]\n",
            " [0 1]\n",
            " [0 1]\n",
            " [0 1]\n",
            " [1 0]\n",
            " [1 0]\n",
            " [2 2]\n",
            " [0 1]\n",
            " [1 0]\n",
            " [1 0]\n",
            " [2 2]\n",
            " [0 1]\n",
            " [0 1]\n",
            " [0 1]\n",
            " [2 2]\n",
            " [0 1]\n",
            " [0 1]\n",
            " [0 1]\n",
            " [2 2]\n",
            " [1 0]\n",
            " [2 2]\n",
            " [2 2]\n",
            " [2 2]\n",
            " [1 0]\n",
            " [1 0]\n",
            " [0 1]\n",
            " [2 2]\n",
            " [2 2]\n",
            " [2 2]\n",
            " [2 2]\n",
            " [0 1]\n",
            " [2 2]\n",
            " [2 2]\n",
            " [2 2]\n",
            " [2 2]\n",
            " [2 2]\n",
            " [0 1]\n",
            " [2 2]]\n"
          ]
        }
      ]
    },
    {
      "cell_type": "markdown",
      "source": [
        "It's noticeable, that elements from K-means' zero cluster are in the HC's first cluster. I'm going to change that for measuring the accuracy."
      ],
      "metadata": {
        "id": "GfldCE-x-mRp"
      },
      "id": "GfldCE-x-mRp"
    },
    {
      "cell_type": "code",
      "source": [
        "y_hc_adjusted = y_hc\n",
        "y_hc_adjusted[y_hc_adjusted == 0] = 9\n",
        "y_hc_adjusted[y_hc_adjusted == 1] = 0\n",
        "y_hc_adjusted[y_hc_adjusted == 9] = 1\n",
        "y_hc_adjusted"
      ],
      "metadata": {
        "id": "Hnj_Jq10zJ5z",
        "colab": {
          "base_uri": "https://localhost:8080/"
        },
        "outputId": "16631e3c-80e1-4259-8b9a-b860c0756860"
      },
      "id": "Hnj_Jq10zJ5z",
      "execution_count": 27,
      "outputs": [
        {
          "output_type": "execute_result",
          "data": {
            "text/plain": [
              "array([1, 1, 1, 0, 0, 0, 0, 1, 0, 0, 0, 1, 0, 0, 2, 2, 2, 1, 2, 0, 0, 0,\n",
              "       1, 1, 1, 1, 2, 0, 0, 2, 1, 0, 0, 1, 0, 1, 0, 0, 1, 1, 1, 0, 0, 1,\n",
              "       0, 0, 0, 1, 1, 1, 0, 0, 1, 0, 1, 0, 1, 0, 2, 1, 1, 1, 1, 1, 0, 1,\n",
              "       1, 1, 1, 1, 1, 0, 2, 0, 0, 0, 0, 0, 1, 2, 0, 0, 1, 0, 0, 2, 1, 1,\n",
              "       0, 0, 1, 0, 1, 1, 1, 1, 0, 0, 1, 1, 0, 0, 0, 0, 0, 0, 0, 0, 0, 0,\n",
              "       0, 0, 0, 0, 0, 2, 1, 0, 0, 0, 2, 2, 0, 1, 2, 0, 2, 1, 1, 2, 2, 1,\n",
              "       2, 2, 2, 2, 2, 0, 2, 1, 1, 1, 1, 1, 1, 0, 1, 0, 0, 0, 0, 0, 2, 1,\n",
              "       0, 1, 0, 0, 0, 1, 2, 1, 0, 0, 0, 0, 1, 1, 2, 0, 1, 1, 2, 0, 0, 0,\n",
              "       2, 0, 0, 0, 2, 1, 2, 2, 2, 1, 1, 0, 2, 2, 2, 2, 0, 2, 2, 2, 2, 2,\n",
              "       0, 2])"
            ]
          },
          "metadata": {},
          "execution_count": 27
        }
      ]
    },
    {
      "cell_type": "markdown",
      "source": [
        "Making the confusion matrix and counting accuracy score.\n",
        "\n",
        "Both models gave almost identical results, with only a 3% of difference."
      ],
      "metadata": {
        "id": "JmwVrMchAYqp"
      },
      "id": "JmwVrMchAYqp"
    },
    {
      "cell_type": "code",
      "source": [
        "cm = confusion_matrix(y_kmeans, y_hc_adjusted)\n",
        "print(cm)\n",
        "accuracy_score(y_kmeans, y_hc_adjusted)"
      ],
      "metadata": {
        "colab": {
          "base_uri": "https://localhost:8080/"
        },
        "id": "pt0C2sdy_21D",
        "outputId": "c8a17f05-bb26-4239-ba57-00d3d36e7781"
      },
      "id": "pt0C2sdy_21D",
      "execution_count": 28,
      "outputs": [
        {
          "output_type": "stream",
          "name": "stdout",
          "text": [
            "[[90  4  0]\n",
            " [ 0 62  0]\n",
            " [ 0  2 42]]\n"
          ]
        },
        {
          "output_type": "execute_result",
          "data": {
            "text/plain": [
              "0.97"
            ]
          },
          "metadata": {},
          "execution_count": 28
        }
      ]
    },
    {
      "cell_type": "markdown",
      "source": [
        "##Results interpretation\n",
        "\n",
        "I decided to continue with K-means clusters. Adding cluster column to the data frame, in order to make results interpretation easier."
      ],
      "metadata": {
        "id": "b91cl-ExAt-K"
      },
      "id": "b91cl-ExAt-K"
    },
    {
      "cell_type": "code",
      "source": [
        "coffee_shops.insert(0, \"Cluster\", y_kmeans)\n",
        "coffee_shops"
      ],
      "metadata": {
        "colab": {
          "base_uri": "https://localhost:8080/",
          "height": 424
        },
        "id": "ISWf3AI6fKQ6",
        "outputId": "74a7a91e-784e-4394-af3b-3aceac421ce7"
      },
      "id": "ISWf3AI6fKQ6",
      "execution_count": 29,
      "outputs": [
        {
          "output_type": "execute_result",
          "data": {
            "text/plain": [
              "     Cluster    Region    Place type  Rating  Reviews  Price  Delivery option  \\\n",
              "0          1  Mariupol  Coffee store     4.6    206.0      1                0   \n",
              "1          1  Mariupol          Cafe     5.0     24.0      1                0   \n",
              "2          1  Mariupol   Coffee shop     5.0     11.0      1                0   \n",
              "3          0  Mariupol   Coffee shop     4.4    331.0      1                0   \n",
              "4          0  Mariupol   Coffee shop     5.0     12.0      1                0   \n",
              "..       ...       ...           ...     ...      ...    ...              ...   \n",
              "195        2    Dnipro    Restaurant     4.6    963.0      2                0   \n",
              "196        2    Dnipro          Cafe     4.3    646.0      1                0   \n",
              "197        2    Dnipro          Cafe     4.6     16.0      1                0   \n",
              "198        0    Dnipro   Coffee shop     4.7    599.0      1                0   \n",
              "199        2    Dnipro          Cafe     4.3    341.0      1                0   \n",
              "\n",
              "     Dine in option  Takeout option  \n",
              "0                 0               0  \n",
              "1                 0               1  \n",
              "2                 0               1  \n",
              "3                 1               1  \n",
              "4                 1               1  \n",
              "..              ...             ...  \n",
              "195               1               1  \n",
              "196               1               1  \n",
              "197               1               1  \n",
              "198               1               1  \n",
              "199               1               0  \n",
              "\n",
              "[200 rows x 9 columns]"
            ],
            "text/html": [
              "\n",
              "  <div id=\"df-9ceb9717-b86d-4458-81a0-e6277774dde7\">\n",
              "    <div class=\"colab-df-container\">\n",
              "      <div>\n",
              "<style scoped>\n",
              "    .dataframe tbody tr th:only-of-type {\n",
              "        vertical-align: middle;\n",
              "    }\n",
              "\n",
              "    .dataframe tbody tr th {\n",
              "        vertical-align: top;\n",
              "    }\n",
              "\n",
              "    .dataframe thead th {\n",
              "        text-align: right;\n",
              "    }\n",
              "</style>\n",
              "<table border=\"1\" class=\"dataframe\">\n",
              "  <thead>\n",
              "    <tr style=\"text-align: right;\">\n",
              "      <th></th>\n",
              "      <th>Cluster</th>\n",
              "      <th>Region</th>\n",
              "      <th>Place type</th>\n",
              "      <th>Rating</th>\n",
              "      <th>Reviews</th>\n",
              "      <th>Price</th>\n",
              "      <th>Delivery option</th>\n",
              "      <th>Dine in option</th>\n",
              "      <th>Takeout option</th>\n",
              "    </tr>\n",
              "  </thead>\n",
              "  <tbody>\n",
              "    <tr>\n",
              "      <th>0</th>\n",
              "      <td>1</td>\n",
              "      <td>Mariupol</td>\n",
              "      <td>Coffee store</td>\n",
              "      <td>4.6</td>\n",
              "      <td>206.0</td>\n",
              "      <td>1</td>\n",
              "      <td>0</td>\n",
              "      <td>0</td>\n",
              "      <td>0</td>\n",
              "    </tr>\n",
              "    <tr>\n",
              "      <th>1</th>\n",
              "      <td>1</td>\n",
              "      <td>Mariupol</td>\n",
              "      <td>Cafe</td>\n",
              "      <td>5.0</td>\n",
              "      <td>24.0</td>\n",
              "      <td>1</td>\n",
              "      <td>0</td>\n",
              "      <td>0</td>\n",
              "      <td>1</td>\n",
              "    </tr>\n",
              "    <tr>\n",
              "      <th>2</th>\n",
              "      <td>1</td>\n",
              "      <td>Mariupol</td>\n",
              "      <td>Coffee shop</td>\n",
              "      <td>5.0</td>\n",
              "      <td>11.0</td>\n",
              "      <td>1</td>\n",
              "      <td>0</td>\n",
              "      <td>0</td>\n",
              "      <td>1</td>\n",
              "    </tr>\n",
              "    <tr>\n",
              "      <th>3</th>\n",
              "      <td>0</td>\n",
              "      <td>Mariupol</td>\n",
              "      <td>Coffee shop</td>\n",
              "      <td>4.4</td>\n",
              "      <td>331.0</td>\n",
              "      <td>1</td>\n",
              "      <td>0</td>\n",
              "      <td>1</td>\n",
              "      <td>1</td>\n",
              "    </tr>\n",
              "    <tr>\n",
              "      <th>4</th>\n",
              "      <td>0</td>\n",
              "      <td>Mariupol</td>\n",
              "      <td>Coffee shop</td>\n",
              "      <td>5.0</td>\n",
              "      <td>12.0</td>\n",
              "      <td>1</td>\n",
              "      <td>0</td>\n",
              "      <td>1</td>\n",
              "      <td>1</td>\n",
              "    </tr>\n",
              "    <tr>\n",
              "      <th>...</th>\n",
              "      <td>...</td>\n",
              "      <td>...</td>\n",
              "      <td>...</td>\n",
              "      <td>...</td>\n",
              "      <td>...</td>\n",
              "      <td>...</td>\n",
              "      <td>...</td>\n",
              "      <td>...</td>\n",
              "      <td>...</td>\n",
              "    </tr>\n",
              "    <tr>\n",
              "      <th>195</th>\n",
              "      <td>2</td>\n",
              "      <td>Dnipro</td>\n",
              "      <td>Restaurant</td>\n",
              "      <td>4.6</td>\n",
              "      <td>963.0</td>\n",
              "      <td>2</td>\n",
              "      <td>0</td>\n",
              "      <td>1</td>\n",
              "      <td>1</td>\n",
              "    </tr>\n",
              "    <tr>\n",
              "      <th>196</th>\n",
              "      <td>2</td>\n",
              "      <td>Dnipro</td>\n",
              "      <td>Cafe</td>\n",
              "      <td>4.3</td>\n",
              "      <td>646.0</td>\n",
              "      <td>1</td>\n",
              "      <td>0</td>\n",
              "      <td>1</td>\n",
              "      <td>1</td>\n",
              "    </tr>\n",
              "    <tr>\n",
              "      <th>197</th>\n",
              "      <td>2</td>\n",
              "      <td>Dnipro</td>\n",
              "      <td>Cafe</td>\n",
              "      <td>4.6</td>\n",
              "      <td>16.0</td>\n",
              "      <td>1</td>\n",
              "      <td>0</td>\n",
              "      <td>1</td>\n",
              "      <td>1</td>\n",
              "    </tr>\n",
              "    <tr>\n",
              "      <th>198</th>\n",
              "      <td>0</td>\n",
              "      <td>Dnipro</td>\n",
              "      <td>Coffee shop</td>\n",
              "      <td>4.7</td>\n",
              "      <td>599.0</td>\n",
              "      <td>1</td>\n",
              "      <td>0</td>\n",
              "      <td>1</td>\n",
              "      <td>1</td>\n",
              "    </tr>\n",
              "    <tr>\n",
              "      <th>199</th>\n",
              "      <td>2</td>\n",
              "      <td>Dnipro</td>\n",
              "      <td>Cafe</td>\n",
              "      <td>4.3</td>\n",
              "      <td>341.0</td>\n",
              "      <td>1</td>\n",
              "      <td>0</td>\n",
              "      <td>1</td>\n",
              "      <td>0</td>\n",
              "    </tr>\n",
              "  </tbody>\n",
              "</table>\n",
              "<p>200 rows × 9 columns</p>\n",
              "</div>\n",
              "      <button class=\"colab-df-convert\" onclick=\"convertToInteractive('df-9ceb9717-b86d-4458-81a0-e6277774dde7')\"\n",
              "              title=\"Convert this dataframe to an interactive table.\"\n",
              "              style=\"display:none;\">\n",
              "        \n",
              "  <svg xmlns=\"http://www.w3.org/2000/svg\" height=\"24px\"viewBox=\"0 0 24 24\"\n",
              "       width=\"24px\">\n",
              "    <path d=\"M0 0h24v24H0V0z\" fill=\"none\"/>\n",
              "    <path d=\"M18.56 5.44l.94 2.06.94-2.06 2.06-.94-2.06-.94-.94-2.06-.94 2.06-2.06.94zm-11 1L8.5 8.5l.94-2.06 2.06-.94-2.06-.94L8.5 2.5l-.94 2.06-2.06.94zm10 10l.94 2.06.94-2.06 2.06-.94-2.06-.94-.94-2.06-.94 2.06-2.06.94z\"/><path d=\"M17.41 7.96l-1.37-1.37c-.4-.4-.92-.59-1.43-.59-.52 0-1.04.2-1.43.59L10.3 9.45l-7.72 7.72c-.78.78-.78 2.05 0 2.83L4 21.41c.39.39.9.59 1.41.59.51 0 1.02-.2 1.41-.59l7.78-7.78 2.81-2.81c.8-.78.8-2.07 0-2.86zM5.41 20L4 18.59l7.72-7.72 1.47 1.35L5.41 20z\"/>\n",
              "  </svg>\n",
              "      </button>\n",
              "      \n",
              "  <style>\n",
              "    .colab-df-container {\n",
              "      display:flex;\n",
              "      flex-wrap:wrap;\n",
              "      gap: 12px;\n",
              "    }\n",
              "\n",
              "    .colab-df-convert {\n",
              "      background-color: #E8F0FE;\n",
              "      border: none;\n",
              "      border-radius: 50%;\n",
              "      cursor: pointer;\n",
              "      display: none;\n",
              "      fill: #1967D2;\n",
              "      height: 32px;\n",
              "      padding: 0 0 0 0;\n",
              "      width: 32px;\n",
              "    }\n",
              "\n",
              "    .colab-df-convert:hover {\n",
              "      background-color: #E2EBFA;\n",
              "      box-shadow: 0px 1px 2px rgba(60, 64, 67, 0.3), 0px 1px 3px 1px rgba(60, 64, 67, 0.15);\n",
              "      fill: #174EA6;\n",
              "    }\n",
              "\n",
              "    [theme=dark] .colab-df-convert {\n",
              "      background-color: #3B4455;\n",
              "      fill: #D2E3FC;\n",
              "    }\n",
              "\n",
              "    [theme=dark] .colab-df-convert:hover {\n",
              "      background-color: #434B5C;\n",
              "      box-shadow: 0px 1px 3px 1px rgba(0, 0, 0, 0.15);\n",
              "      filter: drop-shadow(0px 1px 2px rgba(0, 0, 0, 0.3));\n",
              "      fill: #FFFFFF;\n",
              "    }\n",
              "  </style>\n",
              "\n",
              "      <script>\n",
              "        const buttonEl =\n",
              "          document.querySelector('#df-9ceb9717-b86d-4458-81a0-e6277774dde7 button.colab-df-convert');\n",
              "        buttonEl.style.display =\n",
              "          google.colab.kernel.accessAllowed ? 'block' : 'none';\n",
              "\n",
              "        async function convertToInteractive(key) {\n",
              "          const element = document.querySelector('#df-9ceb9717-b86d-4458-81a0-e6277774dde7');\n",
              "          const dataTable =\n",
              "            await google.colab.kernel.invokeFunction('convertToInteractive',\n",
              "                                                     [key], {});\n",
              "          if (!dataTable) return;\n",
              "\n",
              "          const docLinkHtml = 'Like what you see? Visit the ' +\n",
              "            '<a target=\"_blank\" href=https://colab.research.google.com/notebooks/data_table.ipynb>data table notebook</a>'\n",
              "            + ' to learn more about interactive tables.';\n",
              "          element.innerHTML = '';\n",
              "          dataTable['output_type'] = 'display_data';\n",
              "          await google.colab.output.renderOutput(dataTable, element);\n",
              "          const docLink = document.createElement('div');\n",
              "          docLink.innerHTML = docLinkHtml;\n",
              "          element.appendChild(docLink);\n",
              "        }\n",
              "      </script>\n",
              "    </div>\n",
              "  </div>\n",
              "  "
            ]
          },
          "metadata": {},
          "execution_count": 29
        }
      ]
    },
    {
      "cell_type": "markdown",
      "source": [
        "Making a catplot of the **amount** of places with a certain **average rating**, divided by cluster.\n",
        "\n",
        "Cluster 1 is distributed from 4.3 and higher, while the others have peak around 4.6 - 4.7 and have normal distribution throughout data range."
      ],
      "metadata": {
        "id": "5yQ_ji0yCySt"
      },
      "id": "5yQ_ji0yCySt"
    },
    {
      "cell_type": "code",
      "source": [
        "sns.catplot(data = coffee_shops, x = 'Rating', kind = 'count', hue = 'Cluster', palette = sns.cubehelix_palette(3))"
      ],
      "metadata": {
        "colab": {
          "base_uri": "https://localhost:8080/",
          "height": 387
        },
        "id": "g1GabFwLQ359",
        "outputId": "a66ac55d-a7e3-42e6-f408-1cdcc7552d67"
      },
      "id": "g1GabFwLQ359",
      "execution_count": 30,
      "outputs": [
        {
          "output_type": "execute_result",
          "data": {
            "text/plain": [
              "<seaborn.axisgrid.FacetGrid at 0x7f0a9f7b93a0>"
            ]
          },
          "metadata": {},
          "execution_count": 30
        },
        {
          "output_type": "display_data",
          "data": {
            "text/plain": [
              "<Figure size 403.5x360 with 1 Axes>"
            ],
            "image/png": "[encoded data removed]"
          },
          "metadata": {}
        }
      ]
    },
    {
      "cell_type": "markdown",
      "source": [
        "Swarmplot below shows **rating** values by **regions**."
      ],
      "metadata": {
        "id": "S-JNkPRVye9B"
      },
      "id": "S-JNkPRVye9B"
    },
    {
      "cell_type": "code",
      "source": [
        "sns.catplot(data = coffee_shops, y = 'Region', x = 'Rating', hue = 'Cluster', palette = sns.cubehelix_palette(3))"
      ],
      "metadata": {
        "colab": {
          "base_uri": "https://localhost:8080/",
          "height": 387
        },
        "id": "oCBjGfGggV-Y",
        "outputId": "4798d68e-fb43-4c76-e251-bfadf4979b77"
      },
      "id": "oCBjGfGggV-Y",
      "execution_count": 33,
      "outputs": [
        {
          "output_type": "execute_result",
          "data": {
            "text/plain": [
              "<seaborn.axisgrid.FacetGrid at 0x7f0a9fa0a700>"
            ]
          },
          "metadata": {},
          "execution_count": 33
        },
        {
          "output_type": "display_data",
          "data": {
            "text/plain": [
              "<Figure size 403.5x360 with 1 Axes>"
            ],
            "image/png": "[encoded data removed]"
          },
          "metadata": {}
        }
      ]
    },
    {
      "cell_type": "markdown",
      "source": [
        "Below there is a plot of the **number** of places **by region** for each cluster."
      ],
      "metadata": {
        "id": "XGJAielinMCw"
      },
      "id": "XGJAielinMCw"
    },
    {
      "cell_type": "code",
      "source": [
        "sns.catplot(data = coffee_shops, y = 'Region', kind = 'count', hue = 'Cluster', palette = sns.cubehelix_palette(3))"
      ],
      "metadata": {
        "colab": {
          "base_uri": "https://localhost:8080/",
          "height": 387
        },
        "id": "EgbYDvXleqo6",
        "outputId": "93d281da-99e3-423b-b8f8-f710513a2193"
      },
      "id": "EgbYDvXleqo6",
      "execution_count": 31,
      "outputs": [
        {
          "output_type": "execute_result",
          "data": {
            "text/plain": [
              "<seaborn.axisgrid.FacetGrid at 0x7f0a9fb3b2b0>"
            ]
          },
          "metadata": {},
          "execution_count": 31
        },
        {
          "output_type": "display_data",
          "data": {
            "text/plain": [
              "<Figure size 403.5x360 with 1 Axes>"
            ],
            "image/png": "[encoded data removed]"
          },
          "metadata": {}
        }
      ]
    },
    {
      "cell_type": "markdown",
      "source": [
        "Plotting the **amount** of particular place types (for values that occur more than once).\n",
        "\n",
        "It stands out that the majority of *Cluster 0* data pieces are coffee shops, while the majority of *Cluster 2* are cafés."
      ],
      "metadata": {
        "id": "NiQBH1LtrmzD"
      },
      "id": "NiQBH1LtrmzD"
    },
    {
      "cell_type": "code",
      "source": [
        "major_list = places_amount[places_amount.values > 1].index\n",
        "catp = sns.catplot(data = coffee_shops[coffee_shops['Place type'].isin(major_list)], y = 'Place type', kind = 'count', hue = 'Cluster', palette = sns.cubehelix_palette(3))\n",
        "catp.fig.set_figwidth(10)\n",
        "catp.fig.set_figheight(10)"
      ],
      "metadata": {
        "colab": {
          "base_uri": "https://localhost:8080/",
          "height": 677
        },
        "id": "goO9g64TkYxU",
        "outputId": "d3a5495b-f546-47ee-d625-0c35980fcbac"
      },
      "id": "goO9g64TkYxU",
      "execution_count": 32,
      "outputs": [
        {
          "output_type": "display_data",
          "data": {
            "text/plain": [
              "<Figure size 720x720 with 1 Axes>"
            ],
            "image/png": "[encoded data removed]"
          },
          "metadata": {}
        }
      ]
    },
    {
      "cell_type": "markdown",
      "source": [
        "For building a swarmplot of **ratings & reviews**, I decided to check the distribution of reviews amount first."
      ],
      "metadata": {
        "id": "r6bcRAkKytW9"
      },
      "id": "r6bcRAkKytW9"
    },
    {
      "cell_type": "code",
      "source": [
        "disp = sns.displot(data = coffee_shops, x = \"Reviews\", kind = \"kde\", fill = True)\n",
        "disp.fig.set_figwidth(10)\n",
        "disp.fig.set_figheight(10)"
      ],
      "metadata": {
        "colab": {
          "base_uri": "https://localhost:8080/",
          "height": 677
        },
        "id": "1QLv0I6ch4d8",
        "outputId": "fbd46cd0-d176-4ad3-cad0-11b513c485c9"
      },
      "id": "1QLv0I6ch4d8",
      "execution_count": 34,
      "outputs": [
        {
          "output_type": "display_data",
          "data": {
            "text/plain": [
              "<Figure size 720x720 with 1 Axes>"
            ],
            "image/png": "[encoded data removed]"
          },
          "metadata": {}
        }
      ]
    },
    {
      "cell_type": "markdown",
      "source": [
        "There is only one outlier point, so it can be omitted for the visualization purpose."
      ],
      "metadata": {
        "id": "-w0BWXWUzBe_"
      },
      "id": "-w0BWXWUzBe_"
    },
    {
      "cell_type": "code",
      "source": [
        "coffee_shops.loc[coffee_shops['Reviews'] > 5000]"
      ],
      "metadata": {
        "colab": {
          "base_uri": "https://localhost:8080/",
          "height": 81
        },
        "id": "ntmcmbYAiCId",
        "outputId": "3c2d56a7-be01-4f1a-c126-15aa236c1f62"
      },
      "id": "ntmcmbYAiCId",
      "execution_count": 35,
      "outputs": [
        {
          "output_type": "execute_result",
          "data": {
            "text/plain": [
              "     Cluster Region   Place type  Rating  Reviews  Price  Delivery option  \\\n",
              "100        0   Lviv  Coffee shop     4.7  17937.0      1                1   \n",
              "\n",
              "     Dine in option  Takeout option  \n",
              "100               1               1  "
            ],
            "text/html": [
              "\n",
              "  <div id=\"df-9212a69c-4876-4d1c-afd8-4acb98eaf1f9\">\n",
              "    <div class=\"colab-df-container\">\n",
              "      <div>\n",
              "<style scoped>\n",
              "    .dataframe tbody tr th:only-of-type {\n",
              "        vertical-align: middle;\n",
              "    }\n",
              "\n",
              "    .dataframe tbody tr th {\n",
              "        vertical-align: top;\n",
              "    }\n",
              "\n",
              "    .dataframe thead th {\n",
              "        text-align: right;\n",
              "    }\n",
              "</style>\n",
              "<table border=\"1\" class=\"dataframe\">\n",
              "  <thead>\n",
              "    <tr style=\"text-align: right;\">\n",
              "      <th></th>\n",
              "      <th>Cluster</th>\n",
              "      <th>Region</th>\n",
              "      <th>Place type</th>\n",
              "      <th>Rating</th>\n",
              "      <th>Reviews</th>\n",
              "      <th>Price</th>\n",
              "      <th>Delivery option</th>\n",
              "      <th>Dine in option</th>\n",
              "      <th>Takeout option</th>\n",
              "    </tr>\n",
              "  </thead>\n",
              "  <tbody>\n",
              "    <tr>\n",
              "      <th>100</th>\n",
              "      <td>0</td>\n",
              "      <td>Lviv</td>\n",
              "      <td>Coffee shop</td>\n",
              "      <td>4.7</td>\n",
              "      <td>17937.0</td>\n",
              "      <td>1</td>\n",
              "      <td>1</td>\n",
              "      <td>1</td>\n",
              "      <td>1</td>\n",
              "    </tr>\n",
              "  </tbody>\n",
              "</table>\n",
              "</div>\n",
              "      <button class=\"colab-df-convert\" onclick=\"convertToInteractive('df-9212a69c-4876-4d1c-afd8-4acb98eaf1f9')\"\n",
              "              title=\"Convert this dataframe to an interactive table.\"\n",
              "              style=\"display:none;\">\n",
              "        \n",
              "  <svg xmlns=\"http://www.w3.org/2000/svg\" height=\"24px\"viewBox=\"0 0 24 24\"\n",
              "       width=\"24px\">\n",
              "    <path d=\"M0 0h24v24H0V0z\" fill=\"none\"/>\n",
              "    <path d=\"M18.56 5.44l.94 2.06.94-2.06 2.06-.94-2.06-.94-.94-2.06-.94 2.06-2.06.94zm-11 1L8.5 8.5l.94-2.06 2.06-.94-2.06-.94L8.5 2.5l-.94 2.06-2.06.94zm10 10l.94 2.06.94-2.06 2.06-.94-2.06-.94-.94-2.06-.94 2.06-2.06.94z\"/><path d=\"M17.41 7.96l-1.37-1.37c-.4-.4-.92-.59-1.43-.59-.52 0-1.04.2-1.43.59L10.3 9.45l-7.72 7.72c-.78.78-.78 2.05 0 2.83L4 21.41c.39.39.9.59 1.41.59.51 0 1.02-.2 1.41-.59l7.78-7.78 2.81-2.81c.8-.78.8-2.07 0-2.86zM5.41 20L4 18.59l7.72-7.72 1.47 1.35L5.41 20z\"/>\n",
              "  </svg>\n",
              "      </button>\n",
              "      \n",
              "  <style>\n",
              "    .colab-df-container {\n",
              "      display:flex;\n",
              "      flex-wrap:wrap;\n",
              "      gap: 12px;\n",
              "    }\n",
              "\n",
              "    .colab-df-convert {\n",
              "      background-color: #E8F0FE;\n",
              "      border: none;\n",
              "      border-radius: 50%;\n",
              "      cursor: pointer;\n",
              "      display: none;\n",
              "      fill: #1967D2;\n",
              "      height: 32px;\n",
              "      padding: 0 0 0 0;\n",
              "      width: 32px;\n",
              "    }\n",
              "\n",
              "    .colab-df-convert:hover {\n",
              "      background-color: #E2EBFA;\n",
              "      box-shadow: 0px 1px 2px rgba(60, 64, 67, 0.3), 0px 1px 3px 1px rgba(60, 64, 67, 0.15);\n",
              "      fill: #174EA6;\n",
              "    }\n",
              "\n",
              "    [theme=dark] .colab-df-convert {\n",
              "      background-color: #3B4455;\n",
              "      fill: #D2E3FC;\n",
              "    }\n",
              "\n",
              "    [theme=dark] .colab-df-convert:hover {\n",
              "      background-color: #434B5C;\n",
              "      box-shadow: 0px 1px 3px 1px rgba(0, 0, 0, 0.15);\n",
              "      filter: drop-shadow(0px 1px 2px rgba(0, 0, 0, 0.3));\n",
              "      fill: #FFFFFF;\n",
              "    }\n",
              "  </style>\n",
              "\n",
              "      <script>\n",
              "        const buttonEl =\n",
              "          document.querySelector('#df-9212a69c-4876-4d1c-afd8-4acb98eaf1f9 button.colab-df-convert');\n",
              "        buttonEl.style.display =\n",
              "          google.colab.kernel.accessAllowed ? 'block' : 'none';\n",
              "\n",
              "        async function convertToInteractive(key) {\n",
              "          const element = document.querySelector('#df-9212a69c-4876-4d1c-afd8-4acb98eaf1f9');\n",
              "          const dataTable =\n",
              "            await google.colab.kernel.invokeFunction('convertToInteractive',\n",
              "                                                     [key], {});\n",
              "          if (!dataTable) return;\n",
              "\n",
              "          const docLinkHtml = 'Like what you see? Visit the ' +\n",
              "            '<a target=\"_blank\" href=https://colab.research.google.com/notebooks/data_table.ipynb>data table notebook</a>'\n",
              "            + ' to learn more about interactive tables.';\n",
              "          element.innerHTML = '';\n",
              "          dataTable['output_type'] = 'display_data';\n",
              "          await google.colab.output.renderOutput(dataTable, element);\n",
              "          const docLink = document.createElement('div');\n",
              "          docLink.innerHTML = docLinkHtml;\n",
              "          element.appendChild(docLink);\n",
              "        }\n",
              "      </script>\n",
              "    </div>\n",
              "  </div>\n",
              "  "
            ]
          },
          "metadata": {},
          "execution_count": 35
        }
      ]
    },
    {
      "cell_type": "markdown",
      "source": [
        "The vast majority of *Cluster 1* data points are characterized by high rating and low number of reviews.\\\n",
        "On the other hand, *Cluster 0* characterizes by various number of reviews and these higher average rating values, while *Cluster 2* covers lower values as well, and distributes just about equally on the whole plane."
      ],
      "metadata": {
        "id": "zYTh8XNLzSpm"
      },
      "id": "zYTh8XNLzSpm"
    },
    {
      "cell_type": "code",
      "source": [
        "sns.catplot(data = coffee_shops.loc[coffee_shops['Reviews'] <= 5000], x = 'Rating', y = 'Reviews', hue='Cluster', palette = sns.cubehelix_palette(3))"
      ],
      "metadata": {
        "colab": {
          "base_uri": "https://localhost:8080/",
          "height": 387
        },
        "id": "CI0YLlOZhWz2",
        "outputId": "bb3195aa-f6c8-47f5-e81d-184b8171a739"
      },
      "id": "CI0YLlOZhWz2",
      "execution_count": 36,
      "outputs": [
        {
          "output_type": "execute_result",
          "data": {
            "text/plain": [
              "<seaborn.axisgrid.FacetGrid at 0x7f0a9f9944f0>"
            ]
          },
          "metadata": {},
          "execution_count": 36
        },
        {
          "output_type": "display_data",
          "data": {
            "text/plain": [
              "<Figure size 403.5x360 with 1 Axes>"
            ],
            "image/png": "[encoded data removed]"
          },
          "metadata": {}
        }
      ]
    },
    {
      "cell_type": "markdown",
      "source": [
        "Below, there is a countplot of **number** of places by the **price range**.\n",
        "\n",
        "As was shown earlier, there are a few records with the price range different, than medium. There are exactly 6 such places, and when *Cluster 1* includes only medium price places, *Cluster 2* contains those with higher prices and *Cluster 0* with lower price range accordingly."
      ],
      "metadata": {
        "id": "eqvr-7Yt0j-S"
      },
      "id": "eqvr-7Yt0j-S"
    },
    {
      "cell_type": "code",
      "source": [
        "len(coffee_shops[coffee_shops.Price != 1])"
      ],
      "metadata": {
        "colab": {
          "base_uri": "https://localhost:8080/"
        },
        "id": "27TqC6VV1k84",
        "outputId": "546ea9b1-c318-4908-c3a6-d8e00f2b6fdc"
      },
      "id": "27TqC6VV1k84",
      "execution_count": 47,
      "outputs": [
        {
          "output_type": "execute_result",
          "data": {
            "text/plain": [
              "6"
            ]
          },
          "metadata": {},
          "execution_count": 47
        }
      ]
    },
    {
      "cell_type": "code",
      "source": [
        "sns.catplot(data = coffee_shops, x = 'Price', kind = 'count', hue = 'Cluster', palette = sns.cubehelix_palette(3))"
      ],
      "metadata": {
        "colab": {
          "base_uri": "https://localhost:8080/",
          "height": 387
        },
        "id": "zHDOLVIChYZz",
        "outputId": "90dc6775-5244-4c4b-f0a9-ee96834e588f"
      },
      "id": "zHDOLVIChYZz",
      "execution_count": 37,
      "outputs": [
        {
          "output_type": "execute_result",
          "data": {
            "text/plain": [
              "<seaborn.axisgrid.FacetGrid at 0x7f0a9f994d00>"
            ]
          },
          "metadata": {},
          "execution_count": 37
        },
        {
          "output_type": "display_data",
          "data": {
            "text/plain": [
              "<Figure size 403.5x360 with 1 Axes>"
            ],
            "image/png": "[encoded data removed]"
          },
          "metadata": {}
        }
      ]
    },
    {
      "cell_type": "markdown",
      "source": [
        "Below there are plots depicting different types of services, offered by places: delivery, takeout and dine in options."
      ],
      "metadata": {
        "id": "S2XYasE32gi8"
      },
      "id": "S2XYasE32gi8"
    },
    {
      "cell_type": "code",
      "source": [
        "sns.catplot(data = coffee_shops, x = 'Delivery option', kind = 'count', hue = 'Cluster', palette = sns.cubehelix_palette(3))"
      ],
      "metadata": {
        "colab": {
          "base_uri": "https://localhost:8080/",
          "height": 387
        },
        "id": "TeM3dk8DkTQJ",
        "outputId": "cd54f60d-bb2c-4041-a655-bc9e59cf51ff"
      },
      "id": "TeM3dk8DkTQJ",
      "execution_count": 38,
      "outputs": [
        {
          "output_type": "execute_result",
          "data": {
            "text/plain": [
              "<seaborn.axisgrid.FacetGrid at 0x7f0aa2967790>"
            ]
          },
          "metadata": {},
          "execution_count": 38
        },
        {
          "output_type": "display_data",
          "data": {
            "text/plain": [
              "<Figure size 403.5x360 with 1 Axes>"
            ],
            "image/png": "[encoded data removed]"
          },
          "metadata": {}
        }
      ]
    },
    {
      "cell_type": "code",
      "source": [
        "sns.catplot(data = coffee_shops, x = 'Dine in option', kind = 'count', hue = 'Cluster', palette = sns.cubehelix_palette(3))"
      ],
      "metadata": {
        "colab": {
          "base_uri": "https://localhost:8080/",
          "height": 387
        },
        "id": "_M9y-jthklZX",
        "outputId": "11f9c452-59f4-47b1-c6d3-e80a88b58e4e"
      },
      "id": "_M9y-jthklZX",
      "execution_count": 39,
      "outputs": [
        {
          "output_type": "execute_result",
          "data": {
            "text/plain": [
              "<seaborn.axisgrid.FacetGrid at 0x7f0a9f865610>"
            ]
          },
          "metadata": {},
          "execution_count": 39
        },
        {
          "output_type": "display_data",
          "data": {
            "text/plain": [
              "<Figure size 403.5x360 with 1 Axes>"
            ],
            "image/png": "[encoded data removed]"
          },
          "metadata": {}
        }
      ]
    },
    {
      "cell_type": "code",
      "source": [
        "sns.catplot(data = coffee_shops, x = 'Takeout option', kind = 'count', hue = 'Cluster', palette = sns.cubehelix_palette(3))"
      ],
      "metadata": {
        "colab": {
          "base_uri": "https://localhost:8080/",
          "height": 387
        },
        "id": "gjt14Ad4k-8w",
        "outputId": "e48a78b6-d7d7-4d20-a37a-9007c7370f46"
      },
      "id": "gjt14Ad4k-8w",
      "execution_count": 40,
      "outputs": [
        {
          "output_type": "execute_result",
          "data": {
            "text/plain": [
              "<seaborn.axisgrid.FacetGrid at 0x7f0a9f87b550>"
            ]
          },
          "metadata": {},
          "execution_count": 40
        },
        {
          "output_type": "display_data",
          "data": {
            "text/plain": [
              "<Figure size 403.5x360 with 1 Axes>"
            ],
            "image/png": "[encoded data removed]"
          },
          "metadata": {}
        }
      ]
    },
    {
      "cell_type": "markdown",
      "source": [
        "*Cluster 0* - includes places with low and medium price range, high ratings, most likely a coffee shop with no delivery option.\\\n",
        "*Cluster 1* - places with medium prices, the highest ratings and low reviews amount.\\\n",
        "*Cluster 2* - includes places with higher price range, any average rating (including the lower ones), most likely a café with dine in and takeaway options.\n",
        "\n",
        "A lot of services options had NaN values:\n",
        "\n",
        "*Price -             78*\\\n",
        "*Delivery option -   71*\\\n",
        "*Dine in option -    60*\\\n",
        "*Takeout option -    56*\n",
        "\n",
        "It influences interpretation significantly, f. ex. looking at the *Cluster 1* it can be assumed that the places don't have any services, but the reason for this is that the *False* value was assigned to the missing ones."
      ],
      "metadata": {
        "id": "kFsfVUJclqjm"
      },
      "id": "kFsfVUJclqjm"
    }
  ],
  "metadata": {
    "kernelspec": {
      "display_name": "Python 3 (ipykernel)",
      "language": "python",
      "name": "python3"
    },
    "language_info": {
      "codemirror_mode": {
        "name": "ipython",
        "version": 3
      },
      "file_extension": ".py",
      "mimetype": "text/x-python",
      "name": "python",
      "nbconvert_exporter": "python",
      "pygments_lexer": "ipython3",
      "version": "3.10.8"
    },
    "colab": {
      "provenance": [],
      "toc_visible": true
    }
  },
  "nbformat": 4,
  "nbformat_minor": 5
}